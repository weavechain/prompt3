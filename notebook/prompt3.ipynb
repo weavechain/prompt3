{
 "cells": [
  {
   "cell_type": "markdown",
   "id": "78199267",
   "metadata": {},
   "source": [
    "### Create an API session"
   ]
  },
  {
   "cell_type": "code",
   "execution_count": 63,
   "id": "474259a0",
   "metadata": {},
   "outputs": [
    {
     "name": "stdout",
     "output_type": "stream",
     "text": [
      "{\"res\":\"ok\",\"data\":\"pong 1690036891794\"}\n"
     ]
    }
   ],
   "source": [
    "import pandas as pd\n",
    "\n",
    "from weaveapi.records import *\n",
    "from weaveapi.options import *\n",
    "from weaveapi.filter import *\n",
    "from weaveapi.weaveh import *\n",
    "\n",
    "WEAVE_CONFIG = \"config/demo_ailineage_owner.config\"\n",
    "nodeApi, session = connect_weave_api(WEAVE_CONFIG)\n",
    "\n",
    "data_collection = \"vault\"\n",
    "\n",
    "token = \"USDC\"\n",
    "decimals = 6"
   ]
  },
  {
   "cell_type": "markdown",
   "id": "d825bb86",
   "metadata": {},
   "source": [
    "#### Check initial node owner balance"
   ]
  },
  {
   "cell_type": "markdown",
   "id": "ca76d970",
   "metadata": {},
   "source": [
    "Bridge address: https://blockscout.chiadochain.net/address/0x54b82d06FaD03a788CC8840528038310DBD1b697"
   ]
  },
  {
   "cell_type": "code",
   "execution_count": 53,
   "id": "0a592c6e",
   "metadata": {},
   "outputs": [
    {
     "name": "stdout",
     "output_type": "stream",
     "text": [
      "Custodial wallet weave29LwVcvu5rrg9bfbp7UhQ89unqStMzQvtn7Td5ioSu38Q 930010.0\n"
     ]
    }
   ],
   "source": [
    "account = session.publicKey\n",
    "reply = nodeApi.balance(session, account, \"\", token).get()\n",
    "print(\"Custodial wallet\", account, float(reply[\"data\"]) / pow(10, decimals) if \"data\" in reply else 0)"
   ]
  },
  {
   "cell_type": "markdown",
   "id": "826dbb5c",
   "metadata": {},
   "source": [
    "### Create tables to store prompts"
   ]
  },
  {
   "cell_type": "code",
   "execution_count": 54,
   "id": "f03f6265",
   "metadata": {},
   "outputs": [],
   "source": [
    "personas = [\n",
    "    \"solidity_engineer\",\n",
    "    \"paris_guide\",\n",
    "    \"pregnancy_nurse\",\n",
    "    \"startup_advisor\",\n",
    "    \"crypto_trader\",\n",
    "    \"ethical_data_consultant\"\n",
    "]"
   ]
  },
  {
   "cell_type": "markdown",
   "id": "9e6a60eb",
   "metadata": {},
   "source": [
    "#### Prompt proposals"
   ]
  },
  {
   "cell_type": "code",
   "execution_count": 55,
   "id": "8de8df9d",
   "metadata": {},
   "outputs": [
    {
     "name": "stdout",
     "output_type": "stream",
     "text": [
      "solidity_engineer\n",
      "{'res': 'ok', 'target': {'operationType': 'CREATE_TABLE', 'organization': 'weavedemo', 'account': 'weave29LwVcvu5rrg9bfbp7UhQ89unqStMzQvtn7Td5ioSu38Q', 'scope': 'vault', 'table': 'solidity_engineer_proposals'}}\n",
      "paris_guide\n",
      "{'res': 'ok', 'target': {'operationType': 'CREATE_TABLE', 'organization': 'weavedemo', 'account': 'weave29LwVcvu5rrg9bfbp7UhQ89unqStMzQvtn7Td5ioSu38Q', 'scope': 'vault', 'table': 'paris_guide_proposals'}}\n",
      "pregnancy_nurse\n",
      "{'res': 'ok', 'target': {'operationType': 'CREATE_TABLE', 'organization': 'weavedemo', 'account': 'weave29LwVcvu5rrg9bfbp7UhQ89unqStMzQvtn7Td5ioSu38Q', 'scope': 'vault', 'table': 'pregnancy_nurse_proposals'}}\n",
      "startup_advisor\n",
      "{'res': 'ok', 'target': {'operationType': 'CREATE_TABLE', 'organization': 'weavedemo', 'account': 'weave29LwVcvu5rrg9bfbp7UhQ89unqStMzQvtn7Td5ioSu38Q', 'scope': 'vault', 'table': 'startup_advisor_proposals'}}\n",
      "crypto_trader\n",
      "{'res': 'ok', 'target': {'operationType': 'CREATE_TABLE', 'organization': 'weavedemo', 'account': 'weave29LwVcvu5rrg9bfbp7UhQ89unqStMzQvtn7Td5ioSu38Q', 'scope': 'vault', 'table': 'crypto_trader_proposals'}}\n",
      "ethical_data_consultant\n",
      "{'res': 'ok', 'target': {'operationType': 'CREATE_TABLE', 'organization': 'weavedemo', 'account': 'weave29LwVcvu5rrg9bfbp7UhQ89unqStMzQvtn7Td5ioSu38Q', 'scope': 'vault', 'table': 'ethical_data_consultant_proposals'}}\n"
     ]
    }
   ],
   "source": [
    "for persona in personas:\n",
    "    print(persona)\n",
    "    layout = { \n",
    "        \"columns\": { \n",
    "            \"id\": { \"type\": \"LONG\", \"isIndexed\": True, \"isUnique\": True, \"isNullable\": False },\n",
    "            \"ts\": { \"type\": \"LONG\" },\n",
    "            \"pubkey\": { \"type\": \"STRING\" },\n",
    "            \"sig\": { \"type\": \"STRING\" },\n",
    "            \"ip\": { \"type\": \"STRING\" },\n",
    "            \"roles\": { \"type\": \"STRING\" },\n",
    "            \"text\": { \"type\": \"STRING\" }\n",
    "        }, \n",
    "        \"idColumnIndex\": 0,  # Autogenerates IDs\n",
    "        \"timestampColumnIndex\": 1, # Fills the column automatically with the network time\n",
    "        \"ownerColumnIndex\": 2, # Fills the pubkey column automatically with the public key of the writer\n",
    "        \"signatureColumnIndex\": 3, # Fills the column with an EdDSA signature of the record hash\n",
    "        \"sourceIpColumnIndex\": 4, # Fills the column with an EdDSA signature of the record hash\n",
    "        \"allowedRolesColumnIndex\": 5, # Allowed readers, specified by the writer\n",
    "        \"isLocal\": False,\n",
    "        \"applyReadTransformations\": True\n",
    "    }\n",
    "\n",
    "    table = persona + \"_proposals\"\n",
    "    nodeApi.dropTable(session, data_collection, table).get()\n",
    "    reply = nodeApi.createTable(session, data_collection, table, CreateOptions(False, False, layout)).get()\n",
    "    print(reply)"
   ]
  },
  {
   "cell_type": "markdown",
   "id": "81a22256",
   "metadata": {},
   "source": [
    "#### Accepted prompts"
   ]
  },
  {
   "cell_type": "code",
   "execution_count": 56,
   "id": "7cfa068d",
   "metadata": {},
   "outputs": [
    {
     "name": "stdout",
     "output_type": "stream",
     "text": [
      "solidity_engineer\n",
      "{'res': 'ok', 'target': {'operationType': 'CREATE_TABLE', 'organization': 'weavedemo', 'account': 'weave29LwVcvu5rrg9bfbp7UhQ89unqStMzQvtn7Td5ioSu38Q', 'scope': 'vault', 'table': 'solidity_engineer_prompts'}}\n",
      "paris_guide\n",
      "{'res': 'ok', 'target': {'operationType': 'CREATE_TABLE', 'organization': 'weavedemo', 'account': 'weave29LwVcvu5rrg9bfbp7UhQ89unqStMzQvtn7Td5ioSu38Q', 'scope': 'vault', 'table': 'paris_guide_prompts'}}\n",
      "pregnancy_nurse\n",
      "{'res': 'ok', 'target': {'operationType': 'CREATE_TABLE', 'organization': 'weavedemo', 'account': 'weave29LwVcvu5rrg9bfbp7UhQ89unqStMzQvtn7Td5ioSu38Q', 'scope': 'vault', 'table': 'pregnancy_nurse_prompts'}}\n",
      "startup_advisor\n",
      "{'res': 'ok', 'target': {'operationType': 'CREATE_TABLE', 'organization': 'weavedemo', 'account': 'weave29LwVcvu5rrg9bfbp7UhQ89unqStMzQvtn7Td5ioSu38Q', 'scope': 'vault', 'table': 'startup_advisor_prompts'}}\n",
      "crypto_trader\n",
      "{'res': 'ok', 'target': {'operationType': 'CREATE_TABLE', 'organization': 'weavedemo', 'account': 'weave29LwVcvu5rrg9bfbp7UhQ89unqStMzQvtn7Td5ioSu38Q', 'scope': 'vault', 'table': 'crypto_trader_prompts'}}\n",
      "ethical_data_consultant\n",
      "{'res': 'ok', 'target': {'operationType': 'CREATE_TABLE', 'organization': 'weavedemo', 'account': 'weave29LwVcvu5rrg9bfbp7UhQ89unqStMzQvtn7Td5ioSu38Q', 'scope': 'vault', 'table': 'ethical_data_consultant_prompts'}}\n"
     ]
    }
   ],
   "source": [
    "for persona in personas:\n",
    "    print(persona)\n",
    "    layout = { \n",
    "        \"columns\": { \n",
    "            \"id\": { \"type\": \"LONG\", \"isIndexed\": True, \"isUnique\": True, \"isNullable\": False },\n",
    "            \"ts\": { \"type\": \"LONG\" },\n",
    "            \"pubkey\": { \"type\": \"STRING\" },\n",
    "            \"sig\": { \"type\": \"STRING\" },\n",
    "            \"ip\": { \"type\": \"STRING\" },\n",
    "            \"roles\": { \"type\": \"STRING\" },\n",
    "            \"source\": { \"type\": \"STRING\" },\n",
    "            \"text\": { \"type\": \"STRING\" }\n",
    "        }, \n",
    "        \"idColumnIndex\": 0,  # Autogenerates IDs\n",
    "        \"timestampColumnIndex\": 1, # Fills the column automatically with the network time\n",
    "        \"ownerColumnIndex\": 2, # Fills the pubkey column automatically with the public key of the writer\n",
    "        \"signatureColumnIndex\": 3, # Fills the column with an EdDSA signature of the record hash\n",
    "        \"sourceIpColumnIndex\": 4, # Fills the column with an EdDSA signature of the record hash\n",
    "        \"allowedRolesColumnIndex\": 5, # Allowed readers, specified by the writer\n",
    "        \"isLocal\": False,\n",
    "        \"applyReadTransformations\": True\n",
    "    }\n",
    "\n",
    "    table = persona + \"_prompts\"\n",
    "    nodeApi.dropTable(session, data_collection, table).get()\n",
    "    reply = nodeApi.createTable(session, data_collection, table, CreateOptions(False, False, layout)).get()\n",
    "    print(reply)"
   ]
  },
  {
   "cell_type": "markdown",
   "id": "3fc26adf",
   "metadata": {},
   "source": [
    "#### Superprompts"
   ]
  },
  {
   "cell_type": "code",
   "execution_count": 57,
   "id": "78a8862e",
   "metadata": {
    "scrolled": false
   },
   "outputs": [
    {
     "name": "stdout",
     "output_type": "stream",
     "text": [
      "solidity_engineer\n",
      "{'res': 'ok', 'target': {'operationType': 'CREATE_TABLE', 'organization': 'weavedemo', 'account': 'weave29LwVcvu5rrg9bfbp7UhQ89unqStMzQvtn7Td5ioSu38Q', 'scope': 'vault', 'table': 'solidity_engineer_superprompts'}}\n",
      "paris_guide\n",
      "{'res': 'ok', 'target': {'operationType': 'CREATE_TABLE', 'organization': 'weavedemo', 'account': 'weave29LwVcvu5rrg9bfbp7UhQ89unqStMzQvtn7Td5ioSu38Q', 'scope': 'vault', 'table': 'paris_guide_superprompts'}}\n",
      "pregnancy_nurse\n",
      "{'res': 'ok', 'target': {'operationType': 'CREATE_TABLE', 'organization': 'weavedemo', 'account': 'weave29LwVcvu5rrg9bfbp7UhQ89unqStMzQvtn7Td5ioSu38Q', 'scope': 'vault', 'table': 'pregnancy_nurse_superprompts'}}\n",
      "startup_advisor\n",
      "{'res': 'ok', 'target': {'operationType': 'CREATE_TABLE', 'organization': 'weavedemo', 'account': 'weave29LwVcvu5rrg9bfbp7UhQ89unqStMzQvtn7Td5ioSu38Q', 'scope': 'vault', 'table': 'startup_advisor_superprompts'}}\n",
      "crypto_trader\n",
      "{'res': 'ok', 'target': {'operationType': 'CREATE_TABLE', 'organization': 'weavedemo', 'account': 'weave29LwVcvu5rrg9bfbp7UhQ89unqStMzQvtn7Td5ioSu38Q', 'scope': 'vault', 'table': 'crypto_trader_superprompts'}}\n",
      "ethical_data_consultant\n",
      "{'res': 'ok', 'target': {'operationType': 'CREATE_TABLE', 'organization': 'weavedemo', 'account': 'weave29LwVcvu5rrg9bfbp7UhQ89unqStMzQvtn7Td5ioSu38Q', 'scope': 'vault', 'table': 'ethical_data_consultant_superprompts'}}\n"
     ]
    }
   ],
   "source": [
    "for persona in personas:\n",
    "    print(persona)\n",
    "    layout = { \n",
    "        \"columns\": { \n",
    "            \"id\": { \"type\": \"LONG\", \"isIndexed\": True, \"isUnique\": True, \"isNullable\": False },\n",
    "            \"ts\": { \"type\": \"LONG\" },\n",
    "            \"pubkey\": { \"type\": \"STRING\" },\n",
    "            \"sig\": { \"type\": \"STRING\" },\n",
    "            \"ip\": { \"type\": \"STRING\" },\n",
    "            \"roles\": { \"type\": \"STRING\" },\n",
    "            \"text\": { \"type\": \"STRING\" }\n",
    "        }, \n",
    "        \"idColumnIndex\": 0,  # Autogenerates IDs\n",
    "        \"timestampColumnIndex\": 1, # Fills the column automatically with the network time\n",
    "        \"ownerColumnIndex\": 2, # Fills the pubkey column automatically with the public key of the writer\n",
    "        \"signatureColumnIndex\": 3, # Fills the column with an EdDSA signature of the record hash\n",
    "        \"sourceIpColumnIndex\": 4, # Fills the column with an EdDSA signature of the record hash\n",
    "        \"allowedRolesColumnIndex\": 5, # Allowed readers, specified by the writer\n",
    "        \"isLocal\": False,\n",
    "        \"applyReadTransformations\": True\n",
    "    }\n",
    "\n",
    "    table = persona + \"_superprompts\"\n",
    "    nodeApi.dropTable(session, data_collection, table).get()\n",
    "    reply = nodeApi.createTable(session, data_collection, table, CreateOptions(False, False, layout)).get()\n",
    "    print(reply)"
   ]
  },
  {
   "cell_type": "markdown",
   "id": "eb957c2e",
   "metadata": {},
   "source": [
    "#### Create table for compute lineage"
   ]
  },
  {
   "cell_type": "code",
   "execution_count": 64,
   "id": "c7f4b501",
   "metadata": {},
   "outputs": [
    {
     "name": "stdout",
     "output_type": "stream",
     "text": [
      "{'res': 'ok', 'target': {'operationType': 'CREATE_TABLE', 'organization': 'weavedemo', 'account': 'weave29LwVcvu5rrg9bfbp7UhQ89unqStMzQvtn7Td5ioSu38Q', 'scope': 'vault', 'table': 'personas_lineage'}}\n"
     ]
    }
   ],
   "source": [
    "layout = { \n",
    "    \"columns\": { \n",
    "        \"id\": { \"type\": \"LONG\", \"isIndexed\": True, \"isUnique\": True, \"isNullable\": False },\n",
    "        \"ts\": { \"type\": \"LONG\" },\n",
    "        \"pubkey\": { \"type\": \"STRING\" },\n",
    "        \"sig\": { \"type\": \"STRING\" },\n",
    "        \"ip\": { \"type\": \"STRING\" },\n",
    "        \"roles\": { \"type\": \"STRING\" },\n",
    "        \"persona\": { \"type\": \"STRING\" },\n",
    "        \"lineage\": { \"type\": \"STRING\" }\n",
    "    }, \n",
    "    \"idColumnIndex\": 0,  # Autogenerates IDs\n",
    "    \"timestampColumnIndex\": 1, # Fills the column automatically with the network time\n",
    "    \"ownerColumnIndex\": 2, # Fills the pubkey column automatically with the public key of the writer\n",
    "    \"signatureColumnIndex\": 3, # Fills the column with an EdDSA signature of the record hash\n",
    "    \"sourceIpColumnIndex\": 4, # Fills the column with an EdDSA signature of the record hash\n",
    "    \"allowedRolesColumnIndex\": 5, # Allowed readers, specified by the writer\n",
    "    \"isLocal\": False,\n",
    "    \"applyReadTransformations\": True\n",
    "}\n",
    "\n",
    "table = \"personas_lineage\"\n",
    "nodeApi.dropTable(session, data_collection, table).get()\n",
    "reply = nodeApi.createTable(session, data_collection, table, CreateOptions(False, False, layout)).get()\n",
    "print(reply)"
   ]
  },
  {
   "cell_type": "markdown",
   "id": "74c7ec6f",
   "metadata": {},
   "source": [
    "#### Write some sample prompt"
   ]
  },
  {
   "cell_type": "code",
   "execution_count": 60,
   "id": "ab6ab72a",
   "metadata": {
    "scrolled": true
   },
   "outputs": [
    {
     "name": "stdout",
     "output_type": "stream",
     "text": [
      "{'res': 'ok', 'target': {'operationType': 'WRITE', 'organization': 'weavedemo', 'account': 'weave29LwVcvu5rrg9bfbp7UhQ89unqStMzQvtn7Td5ioSu38Q', 'scope': 'vault', 'table': 'paris_guide_proposals'}, 'data': 'weave29LwVcvu5rrg9bfbp7UhQ89unqStMzQvtn7Td5ioSu38Q,rbmtntkzhI54Zu2icINzmN+vFIMhr6tK0ljUnq9hHaY=,3kYAnrUPsDkVbvjciNdD9kRpZMJ5rQbXUKcnHe4FTuJSijitT42gaZJfiJmWbhdXfBrgxH9USYujzCm7UM8V7cj6', 'ids': '15'}\n",
      "{'res': 'ok', 'target': {'operationType': 'WRITE', 'organization': 'weavedemo', 'account': 'weave29LwVcvu5rrg9bfbp7UhQ89unqStMzQvtn7Td5ioSu38Q', 'scope': 'vault', 'table': 'paris_guide_proposals'}, 'data': 'weave29LwVcvu5rrg9bfbp7UhQ89unqStMzQvtn7Td5ioSu38Q,lPbPQ/LFWA1A0SzlbF6tBP8Gg6uCveAwvMPEPYVM+Fg=,4PXHZv3heXo6V9VjYkZ4tVaAUTjkLPAafNJX1nPgJw37A1znPeCmfLudjVJPG4xUs8w6d1NF3b7aFsVy8TXZn4XF', 'ids': '16'}\n",
      "{'res': 'ok', 'target': {'operationType': 'WRITE', 'organization': 'weavedemo', 'account': 'weave29LwVcvu5rrg9bfbp7UhQ89unqStMzQvtn7Td5ioSu38Q', 'scope': 'vault', 'table': 'paris_guide_proposals'}, 'data': 'weave29LwVcvu5rrg9bfbp7UhQ89unqStMzQvtn7Td5ioSu38Q,CzriI5SNDKnG1qvUOak8U2ClHg8a4skXp1EcP6hpbis=,4QBpQsm93ufLMiAY3fXNZpwL9ha688QT2cnn8bHrwZBhDvcAMhaJCF6XagyV7H78okRX9tBKS6qYmm8y7Ujrc1eS', 'ids': '17'}\n"
     ]
    }
   ],
   "source": [
    "toInsert = [\n",
    "    [ \"paris_guide_proposals\", \"You are a well trained Paris City guide that knows every attraction. You have to give a recommendation for a tourist such that it is both funny and interesting, based on the following input:\"],\n",
    "    [ \"paris_guide_proposals\", \"As a Paris City Guide for foreigners you have to recommend the best place to visit in order to meet interesting people. What would that be, if the visitor wants\"],\n",
    "    [ \"paris_guide_proposals\", \"You are an alternative city guide who knows the unbeaten tracks of Paris. You have to recommend things for people such that they will be pleasantly surprised\" ]\n",
    "    \n",
    "]\n",
    "table = \n",
    "\n",
    "text = \n",
    "records = Records(table, [\n",
    "    [ None, None, None, None, None, None, text ]\n",
    "])\n",
    "reply = nodeApi.write(session, data_collection, records, WRITE_DEFAULT).get()\n",
    "print(reply)\n",
    "\n",
    "\n",
    "text = \"As a Paris City Guide recommend me something to do\"\n",
    "records = Records(table, [\n",
    "    [ None, None, None, None, None, None, text ]\n",
    "])\n",
    "reply = nodeApi.write(session, data_collection, records, WRITE_DEFAULT).get()\n",
    "print(reply)\n",
    "\n",
    "text = \n",
    "records = Records(table, [\n",
    "    [ None, None, None, None, None, None, text ]\n",
    "])\n",
    "reply = nodeApi.write(session, data_collection, records, WRITE_DEFAULT).get()\n",
    "print(reply)"
   ]
  },
  {
   "cell_type": "markdown",
   "id": "c1e77106",
   "metadata": {},
   "source": [
    "#### Test read proposed prompts"
   ]
  },
  {
   "cell_type": "code",
   "execution_count": 46,
   "id": "4f9450ec",
   "metadata": {
    "scrolled": true
   },
   "outputs": [
    {
     "data": {
      "text/html": [
       "<div>\n",
       "<style scoped>\n",
       "    .dataframe tbody tr th:only-of-type {\n",
       "        vertical-align: middle;\n",
       "    }\n",
       "\n",
       "    .dataframe tbody tr th {\n",
       "        vertical-align: top;\n",
       "    }\n",
       "\n",
       "    .dataframe thead th {\n",
       "        text-align: right;\n",
       "    }\n",
       "</style>\n",
       "<table border=\"1\" class=\"dataframe\">\n",
       "  <thead>\n",
       "    <tr style=\"text-align: right;\">\n",
       "      <th></th>\n",
       "      <th>id</th>\n",
       "      <th>ts</th>\n",
       "      <th>pubkey</th>\n",
       "      <th>sig</th>\n",
       "      <th>ip</th>\n",
       "      <th>text</th>\n",
       "      <th>roles</th>\n",
       "    </tr>\n",
       "  </thead>\n",
       "  <tbody>\n",
       "    <tr>\n",
       "      <th>0</th>\n",
       "      <td>1</td>\n",
       "      <td>1690018985189</td>\n",
       "      <td>weave29LwVcvu5rrg9bfbp7UhQ89unqStMzQvtn7Td5ioS...</td>\n",
       "      <td>[{\"sig\":{\"recordsHash\":\"rbmtntkzhI54Zu2icINzmN...</td>\n",
       "      <td>172.174.28.163</td>\n",
       "      <td>You are a well trained Paris City guide that k...</td>\n",
       "      <td>NaN</td>\n",
       "    </tr>\n",
       "    <tr>\n",
       "      <th>1</th>\n",
       "      <td>2</td>\n",
       "      <td>1690018985246</td>\n",
       "      <td>weave29LwVcvu5rrg9bfbp7UhQ89unqStMzQvtn7Td5ioS...</td>\n",
       "      <td>[{\"sig\":{\"recordsHash\":\"KLZkMkd8JyVGwOyhDCH7W6...</td>\n",
       "      <td>172.174.28.163</td>\n",
       "      <td>As a Paris City Guide recommend me something t...</td>\n",
       "      <td>NaN</td>\n",
       "    </tr>\n",
       "    <tr>\n",
       "      <th>2</th>\n",
       "      <td>3</td>\n",
       "      <td>1690018985289</td>\n",
       "      <td>weave29LwVcvu5rrg9bfbp7UhQ89unqStMzQvtn7Td5ioS...</td>\n",
       "      <td>[{\"sig\":{\"recordsHash\":\"CzriI5SNDKnG1qvUOak8U2...</td>\n",
       "      <td>172.174.28.163</td>\n",
       "      <td>As a Paris City Guide for foreigners you have ...</td>\n",
       "      <td>NaN</td>\n",
       "    </tr>\n",
       "    <tr>\n",
       "      <th>3</th>\n",
       "      <td>4</td>\n",
       "      <td>1690021401822</td>\n",
       "      <td>weaveqTYSfBMsu1zqzxizPy6gc9Wj3mNdvjkTqmYuRHFqVtcA</td>\n",
       "      <td>[{\"sig\":{\"recordsHash\":\"Pvm03Nb6o/YTY9QkKMYgId...</td>\n",
       "      <td>89.137.100.219</td>\n",
       "      <td>You are an alternative city guide who knows th...</td>\n",
       "      <td>*</td>\n",
       "    </tr>\n",
       "    <tr>\n",
       "      <th>4</th>\n",
       "      <td>5</td>\n",
       "      <td>1690021917107</td>\n",
       "      <td>weaveqTYSfBMsu1zqzxizPy6gc9Wj3mNdvjkTqmYuRHFqVtcA</td>\n",
       "      <td>[{\"sig\":{\"recordsHash\":\"GjvVh2Ta+jCJB7zHAtudxV...</td>\n",
       "      <td>89.137.100.219</td>\n",
       "      <td>test</td>\n",
       "      <td>*</td>\n",
       "    </tr>\n",
       "  </tbody>\n",
       "</table>\n",
       "</div>"
      ],
      "text/plain": [
       "   id             ts                                             pubkey  \\\n",
       "0   1  1690018985189  weave29LwVcvu5rrg9bfbp7UhQ89unqStMzQvtn7Td5ioS...   \n",
       "1   2  1690018985246  weave29LwVcvu5rrg9bfbp7UhQ89unqStMzQvtn7Td5ioS...   \n",
       "2   3  1690018985289  weave29LwVcvu5rrg9bfbp7UhQ89unqStMzQvtn7Td5ioS...   \n",
       "3   4  1690021401822  weaveqTYSfBMsu1zqzxizPy6gc9Wj3mNdvjkTqmYuRHFqVtcA   \n",
       "4   5  1690021917107  weaveqTYSfBMsu1zqzxizPy6gc9Wj3mNdvjkTqmYuRHFqVtcA   \n",
       "\n",
       "                                                 sig              ip  \\\n",
       "0  [{\"sig\":{\"recordsHash\":\"rbmtntkzhI54Zu2icINzmN...  172.174.28.163   \n",
       "1  [{\"sig\":{\"recordsHash\":\"KLZkMkd8JyVGwOyhDCH7W6...  172.174.28.163   \n",
       "2  [{\"sig\":{\"recordsHash\":\"CzriI5SNDKnG1qvUOak8U2...  172.174.28.163   \n",
       "3  [{\"sig\":{\"recordsHash\":\"Pvm03Nb6o/YTY9QkKMYgId...  89.137.100.219   \n",
       "4  [{\"sig\":{\"recordsHash\":\"GjvVh2Ta+jCJB7zHAtudxV...  89.137.100.219   \n",
       "\n",
       "                                                text roles  \n",
       "0  You are a well trained Paris City guide that k...   NaN  \n",
       "1  As a Paris City Guide recommend me something t...   NaN  \n",
       "2  As a Paris City Guide for foreigners you have ...   NaN  \n",
       "3  You are an alternative city guide who knows th...     *  \n",
       "4                                               test     *  "
      ]
     },
     "metadata": {},
     "output_type": "display_data"
    }
   ],
   "source": [
    "table = \"paris_guide_proposals\"\n",
    "\n",
    "reply = nodeApi.read(session, data_collection, table, None, READ_DEFAULT_NO_CHAIN).get()\n",
    "#print(reply)\n",
    "df = pd.DataFrame(reply[\"data\"])\n",
    "display(df.tail())\n",
    "\n",
    "sample_prompt = df.iloc[0][\"text\"]"
   ]
  },
  {
   "cell_type": "markdown",
   "id": "1a5ca1a9",
   "metadata": {},
   "source": [
    "#### Records have hashes and signatures from the source"
   ]
  },
  {
   "cell_type": "code",
   "execution_count": 9,
   "id": "97f9fbf6",
   "metadata": {},
   "outputs": [
    {
     "data": {
      "text/plain": [
       "[{'sig': {'recordsHash': 'CzriI5SNDKnG1qvUOak8U2ClHg8a4skXp1EcP6hpbis=',\n",
       "   'count': '3',\n",
       "   'pubKey': 'weave29LwVcvu5rrg9bfbp7UhQ89unqStMzQvtn7Td5ioSu38Q',\n",
       "   'prevRecordsHash': 'KLZkMkd8JyVGwOyhDCH7W6Mx71QhUj6pBuqjhJ4ZEsk=',\n",
       "   'sig': '5EWTgwvyrag6v9bYhSvWNA6tLjXB1B1PbZnhn858gGEY1FukosYKMW8Q28GQWjcZnqxn1Ys5v4gLmUPWQtuZ6nYY'}}]"
      ]
     },
     "metadata": {},
     "output_type": "display_data"
    }
   ],
   "source": [
    "display(json.loads(df.iloc[-1][\"sig\"]))"
   ]
  },
  {
   "cell_type": "markdown",
   "id": "c57c3d56",
   "metadata": {},
   "source": [
    "### Run compute task to accept prompts"
   ]
  },
  {
   "cell_type": "code",
   "execution_count": 51,
   "id": "2890cb40",
   "metadata": {},
   "outputs": [
    {
     "data": {
      "text/plain": [
       "{'res': 'ok',\n",
       " 'target': {'operationType': 'COMPUTE',\n",
       "  'organization': 'weavedemo',\n",
       "  'account': 'weave29LwVcvu5rrg9bfbp7UhQ89unqStMzQvtn7Td5ioSu38Q'},\n",
       " 'data': {'inputHash': 'nMPqnwoRvHPp3mtXFP8JbRNs4bRjgiptVCovyyTTeZJ',\n",
       "  'console': '{\"res\":\"ok\",\"data\":\"pong 1690029442440\"}\\n7\\n{\\'res\\': \\'ok\\', \\'target\\': {\\'operationType\\': \\'WRITE\\', \\'organization\\': \\'weavedemo\\', \\'account\\': \\'weave29LwVcvu5rrg9bfbp7UhQ89unqStMzQvtn7Td5ioSu38Q\\', \\'scope\\': \\'vault\\', \\'table\\': \\'paris_guide_prompts\\'}, \\'data\\': \\'weave29LwVcvu5rrg9bfbp7UhQ89unqStMzQvtn7Td5ioSu38Q,FkVUQ7UnnZ8x2Nz21qJs1tPGXnnQ7RmlQatLJSeXv3M=,4vmgzCKtL63v1B5RBQz92ZYT2gzS6WgtfZuEGbBJueigdj6dpL32q1Dsazqzujop9HqdADAAWit5VWtBwZrnAjnG\\', \\'ids\\': \\'9\\'}\\n{\\'res\\': \\'ok\\', \\'target\\': {\\'operationType\\': \\'WRITE\\', \\'organization\\': \\'weavedemo\\', \\'account\\': \\'weave29LwVcvu5rrg9bfbp7UhQ89unqStMzQvtn7Td5ioSu38Q\\', \\'scope\\': \\'vault\\', \\'table\\': \\'paris_guide_prompts\\'}, \\'data\\': \\'weave29LwVcvu5rrg9bfbp7UhQ89unqStMzQvtn7Td5ioSu38Q,IbLKkVDQ96sV/EYgUXRvgAKHlGnI4uE/HkxQiCCaNkg=,YvPyfq6QDuoRgJ6tyPmFHtfjCaVZzsvC8KGSEyv5SVRoPkFqodrMjZHTmZrAuRpbkGwc5ysGeXfduT2N2778oCV\\', \\'ids\\': \\'10\\'}\\n{\\'res\\': \\'ok\\', \\'target\\': {\\'operationType\\': \\'WRITE\\', \\'organization\\': \\'weavedemo\\', \\'account\\': \\'weave29LwVcvu5rrg9bfbp7UhQ89unqStMzQvtn7Td5ioSu38Q\\', \\'scope\\': \\'.internal_task_params\\', \\'table\\': \\'11aefab498234cbabe01650bae4d4ab1\\'}, \\'data\\': \\'weave29LwVcvu5rrg9bfbp7UhQ89unqStMzQvtn7Td5ioSu38Q,AnIEaWH7Hx17EpyKwc7kDB6FdK9Nm2lftwBZkNdoMSA=,4YxE2ym3ySTF1kER9N7N5hMZV79HBZ5SBQ6c1xAShu9yCk8NrCQ86LYB4TF61S7szGF1eMuzJ8RbobYmFNjFRXat\\'}\\n{\\'res\\': \\'ok\\', \\'target\\': {\\'operationType\\': \\'WRITE\\', \\'organization\\': \\'weavedemo\\', \\'account\\': \\'weave29LwVcvu5rrg9bfbp7UhQ89unqStMzQvtn7Td5ioSu38Q\\', \\'scope\\': \\'.internal_task_params\\', \\'table\\': \\'11aefab498234cbabe01650bae4d4ab1\\'}, \\'data\\': \\'weave29LwVcvu5rrg9bfbp7UhQ89unqStMzQvtn7Td5ioSu38Q,JWAQICWu8XWx2O7s1H3/ZarZepoiTErom2xpMzcdOlM=,33frV8f5QM6uX82USQu7Yq1vDBKUWn7Aupa3A1aMUi9VHojfhFPDncBLFRnp25wh46GNvmS7Qnb3EZXSg9LpqaW6\\'}\\nDone.\\n',\n",
       "  'rootHashes': '\"{vault={paris_guide_prompts=B85eAn1HWznkmPq2dnzYEzyJHGsCAma58oJU5isK17vX}}\"',\n",
       "  'writesSignature': '2tnQTitEhGAtxHGQVAL7fSqHDVsqT4a2pSo4JWifLAnHmc8pT1eAahdKUeNuQvNx6PacvVomDnLK7YKR4ZgMG468',\n",
       "  'outputHash': '99NTyZ796bpvwLLhMmsfwo8J3Wu3rUioUQsHE9CSYQKz',\n",
       "  'outputSignature': 'gU73c1QEfFwDNM9G8bFMQ8CJWXay6Fm9BY2W7DAtLJaf9xDPLgyUSkPSBrGC4CmjNhMpw9qtv9kR6CPVNfr17Es',\n",
       "  'computeHash': 'AEK7qoc2JDLaBQgPSukr7dunyjD5YnJcKtGkxz5HVQUB',\n",
       "  'WEAVE_API_KEY': 'dc997f03976f40ce8a8de2e80e4e084924293e86e068dd37',\n",
       "  'output': '7',\n",
       "  'input': '[{\"hash\":\"mBggoXij4onh/VIyV42dzNflHEel6fvkLOnRk639K3w=\",\"scope\":\"vault\",\"table\":\"paris_guide_proposals\"},{\"hash\":\"1/pZsmcjuRopQ93YhMjURJji+Yhr7FDulYkKxvlboVI=\",\"scope\":\"vault\",\"table\":\"paris_guide_prompts\"},{\"hash\":\"1/pZsmcjuRopQ93YhMjURJji+Yhr7FDulYkKxvlboVI=\",\"scope\":\"vault\",\"table\":\"paris_guide_prompts\"}]',\n",
       "  'writesHash': 'DBFoZE1WuP4oYkNfNwHfqGmVb6DFhN4DPzvgfzrkzBCK',\n",
       "  'paramsHash': 'F4HkEBwUnvFnui6tYctsHEZXWaUQD7SFZ66zLPesfcmT',\n",
       "  'writes': '[{\"hash\":\"m3n92bN/hPOCpgEX7/xJVQgRm7z2d3+jtnZebdjpGQw=\",\"scope\":\"vault\",\"table\":\"paris_guide_prompts\"},{\"hash\":\"m3n92bN/hPOCpgEX7/xJVQgRm7z2d3+jtnZebdjpGQw=\",\"scope\":\"vault\",\"table\":\"paris_guide_prompts\"}]',\n",
       "  'outputSignatureTs': '3aqAC9uBay5ERVujxLogWQ4zHBbdmmBxFdo2gcSdfSXMo8PfQnQaKgu2eQtCMTeG4PB2n9ujGSSyRg4ECPs3a1GY',\n",
       "  'taskId': '11aefab498234cbabe01650bae4d4ab1',\n",
       "  'consoleSignature': '3TbYWAubp8kHj6p12W9dorVZA22RjpRbLwSV91Y5nXyeLdB5XbZZyySndpwTn5wMFuSzxupgCTzgkdUy2rBcTQ7m',\n",
       "  'ts': '1690029446957'}}"
      ]
     },
     "metadata": {},
     "output_type": "display_data"
    }
   ],
   "source": [
    "timeoutSec = 300\n",
    "params = {\n",
    "    \"persona\": \"paris_guide\",\n",
    "    \"accept\": [ 1, 3 ]\n",
    "}\n",
    "options = ComputeOptions(True, timeoutSec, 0, None, params)\n",
    "\n",
    "### TODO. Leave auth for later\n",
    "reply = nodeApi.compute(session, \"gcr.io/weavechain/approve_prompts\", options).get()\n",
    "display(reply)"
   ]
  },
  {
   "cell_type": "markdown",
   "id": "94367cf3",
   "metadata": {},
   "source": [
    "#### Test read accepted prompts"
   ]
  },
  {
   "cell_type": "code",
   "execution_count": 32,
   "id": "274191dd",
   "metadata": {},
   "outputs": [
    {
     "data": {
      "text/html": [
       "<div>\n",
       "<style scoped>\n",
       "    .dataframe tbody tr th:only-of-type {\n",
       "        vertical-align: middle;\n",
       "    }\n",
       "\n",
       "    .dataframe tbody tr th {\n",
       "        vertical-align: top;\n",
       "    }\n",
       "\n",
       "    .dataframe thead th {\n",
       "        text-align: right;\n",
       "    }\n",
       "</style>\n",
       "<table border=\"1\" class=\"dataframe\">\n",
       "  <thead>\n",
       "    <tr style=\"text-align: right;\">\n",
       "      <th></th>\n",
       "      <th>id</th>\n",
       "      <th>ts</th>\n",
       "      <th>pubkey</th>\n",
       "      <th>sig</th>\n",
       "      <th>ip</th>\n",
       "      <th>roles</th>\n",
       "      <th>source</th>\n",
       "      <th>text</th>\n",
       "    </tr>\n",
       "  </thead>\n",
       "  <tbody>\n",
       "    <tr>\n",
       "      <th>0</th>\n",
       "      <td>1</td>\n",
       "      <td>1690019451376</td>\n",
       "      <td>weave29LwVcvu5rrg9bfbp7UhQ89unqStMzQvtn7Td5ioS...</td>\n",
       "      <td>[{\"sig\":{\"recordsHash\":\"FkVUQ7UnnZ8x2Nz21qJs1t...</td>\n",
       "      <td>localhost</td>\n",
       "      <td>*</td>\n",
       "      <td>weave29LwVcvu5rrg9bfbp7UhQ89unqStMzQvtn7Td5ioS...</td>\n",
       "      <td>You are a well trained Paris City guide that k...</td>\n",
       "    </tr>\n",
       "    <tr>\n",
       "      <th>1</th>\n",
       "      <td>2</td>\n",
       "      <td>1690019451404</td>\n",
       "      <td>weave29LwVcvu5rrg9bfbp7UhQ89unqStMzQvtn7Td5ioS...</td>\n",
       "      <td>[{\"sig\":{\"recordsHash\":\"IbLKkVDQ96sV/EYgUXRvgA...</td>\n",
       "      <td>localhost</td>\n",
       "      <td>*</td>\n",
       "      <td>weave29LwVcvu5rrg9bfbp7UhQ89unqStMzQvtn7Td5ioS...</td>\n",
       "      <td>As a Paris City Guide for foreigners you have ...</td>\n",
       "    </tr>\n",
       "  </tbody>\n",
       "</table>\n",
       "</div>"
      ],
      "text/plain": [
       "   id             ts                                             pubkey  \\\n",
       "0   1  1690019451376  weave29LwVcvu5rrg9bfbp7UhQ89unqStMzQvtn7Td5ioS...   \n",
       "1   2  1690019451404  weave29LwVcvu5rrg9bfbp7UhQ89unqStMzQvtn7Td5ioS...   \n",
       "\n",
       "                                                 sig         ip roles  \\\n",
       "0  [{\"sig\":{\"recordsHash\":\"FkVUQ7UnnZ8x2Nz21qJs1t...  localhost     *   \n",
       "1  [{\"sig\":{\"recordsHash\":\"IbLKkVDQ96sV/EYgUXRvgA...  localhost     *   \n",
       "\n",
       "                                              source  \\\n",
       "0  weave29LwVcvu5rrg9bfbp7UhQ89unqStMzQvtn7Td5ioS...   \n",
       "1  weave29LwVcvu5rrg9bfbp7UhQ89unqStMzQvtn7Td5ioS...   \n",
       "\n",
       "                                                text  \n",
       "0  You are a well trained Paris City guide that k...  \n",
       "1  As a Paris City Guide for foreigners you have ...  "
      ]
     },
     "metadata": {},
     "output_type": "display_data"
    }
   ],
   "source": [
    "table = \"paris_guide_prompts\"\n",
    "\n",
    "reply = nodeApi.read(session, data_collection, table, None, READ_DEFAULT_NO_CHAIN).get()\n",
    "#print(reply)\n",
    "df = pd.DataFrame(reply[\"data\"])\n",
    "display(df.tail())\n",
    "\n",
    "sample_prompt = df.iloc[0][\"text\"]\n",
    "sample = df.iloc[0]"
   ]
  },
  {
   "cell_type": "markdown",
   "id": "384e91f1",
   "metadata": {},
   "source": [
    "### Run compute task to generate a superprompt"
   ]
  },
  {
   "cell_type": "code",
   "execution_count": 27,
   "id": "69a2fee2",
   "metadata": {},
   "outputs": [
    {
     "data": {
      "text/plain": [
       "{'inputHash': '3NvhzYCRa8WPfCVvkGrX6XEc72qJrv8Uk6762VgNDxhY',\n",
       " 'console': 'Connecting to node...\\n{\"res\":\"ok\",\"data\":\"pong 1690019602117\"}\\nFetched params: {\\'persona\\': \\'paris_guide\\', \\'scope\\': \\'vault\\', \\'WEAVE_CALLER_PUBKEY\\': \\'weave29LwVcvu5rrg9bfbp7UhQ89unqStMzQvtn7Td5ioSu38Q\\'}\\nFetched scope: vault\\nFetched persona: paris_guide\\nFetching prompts:  $$$ You are a well trained Paris City guide that knows every attraction. You have to give a recommendation for a tourist such that it is both funny and interesting, based on the following input:  $$$ As a Paris City Guide for foreigners you have to recommend the best place to visit in order to meet interesting people. What would that be, if the visitor wants \\nFetched distilation_prompt: You will get instructions for summarizing many paragraphs into a single paragraph.\\nYou will write an answer that\\'s on average the same size as the different paragraphs taken one by one. Make sure that all important keywords are, in the end, in the answer.\\nYou will receive either one single paragraph or multiple paragraphs after the $$$ separator and then will receive other paragraphs separated by the sequence $$$. Remember, this is about summerizing the paragraphs after $$$.\\nEach paragraph describes a role of a person. You will have summarize all the paragraphs into a single paragraph, describing the roles of that person as best as possible, while keeping the important keywords.\\nThink how to summarize in the best way and take the right decisions to make sure we describe that person in the best way, such that the responsibilities are clear and produce the best description of the job.\\nBefore you finish, double check that the answer is the best description of the role that is described by these paragraphs.\\nFetching max_tokens: 3072\\nFetched chat completion flag: True\\nFetched model endine: gpt-4\\nGot chatgpt response: As a Paris City Guide, the role involves recommending the most captivating places for tourists to visit to meet intriguing individuals, ensuring the advice is both amusing and engaging. This entails having an in-depth knowledge of all the attractions in Paris and being able to provide guidance that aligns with a visitor\\'s unique interests.\\nWrite reply: {\\'res\\': \\'ok\\', \\'target\\': {\\'operationType\\': \\'WRITE\\', \\'organization\\': \\'weavedemo\\', \\'account\\': \\'weave29LwVcvu5rrg9bfbp7UhQ89unqStMzQvtn7Td5ioSu38Q\\', \\'scope\\': \\'vault\\', \\'table\\': \\'paris_guide_superprompts\\'}, \\'data\\': \\'weave29LwVcvu5rrg9bfbp7UhQ89unqStMzQvtn7Td5ioSu38Q,Jlnx1eMYuKKp1d2l22PCIIbJOwchftqhJy5lU8Co0qY=,bUQeiX32LhfsqyXxNpRYZJTvEDsFg4ecQ9PZyYLavtBL5dZ3SBbHexFbGfj63SGu1YLjLM1n9Y62pV1KRSurfcs\\', \\'ids\\': \\'3\\'}\\nSending results...\\n',\n",
       " 'rootHashes': '\"{vault={paris_guide_prompts=DuisniJjpv8vpkRhAkiFHZw42KPhi36XRP83xUAoUzmL}}\"',\n",
       " 'writesSignature': '2tKTQVmeRg3vbMoWFQ7ZyFrkYhGD1PwDAExfsx6ryW4tWKF7fFKT6dk3qitiTCuBHSH6j3eTyBEisYnvTBrHjmKN',\n",
       " 'outputHash': '2QQbaKNrH2KJbvyCCz2VuBi4ULusLseqGPMr6Av1AW7J',\n",
       " 'outputSignature': '53WhJJFzGN86w3Yut4juqZ3ogVrggxMYyRbiFGPSdUkXbJ3F3f2XVYZKkJ2guRBkHd1Brz5njvkamjckVCPgdtFd',\n",
       " 'computeHash': '9njuvKmvCpypveTLfgKGtRHK2GZZHiBdYGmWuFgytSHW',\n",
       " 'WEAVE_API_KEY': 'a57f6ef175ea480fbd3abb7bd2f4b849744cb32d79886d48',\n",
       " 'output': '{\"res\": \"ok\", \"target\": {\"operationType\": \"WRITE\", \"organization\": \"weavedemo\", \"account\": \"weave29LwVcvu5rrg9bfbp7UhQ89unqStMzQvtn7Td5ioSu38Q\", \"scope\": \"vault\", \"table\": \"paris_guide_superprompts\"}, \"data\": \"weave29LwVcvu5rrg9bfbp7UhQ89unqStMzQvtn7Td5ioSu38Q,Jlnx1eMYuKKp1d2l22PCIIbJOwchftqhJy5lU8Co0qY=,bUQeiX32LhfsqyXxNpRYZJTvEDsFg4ecQ9PZyYLavtBL5dZ3SBbHexFbGfj63SGu1YLjLM1n9Y62pV1KRSurfcs\", \"ids\": \"3\"}',\n",
       " 'input': '[{\"hash\":\"TU3RXPrKCy7nnYoj1Bed+Ky9pl9QpFGGW1AZu8Aa3iU=\",\"scope\":\"vault\",\"table\":\"paris_guide_prompts\"}]',\n",
       " 'writesHash': '7woysKLhMZW5ExazXf5DFxJjopsJVpfu9SaH1pvhPLAt',\n",
       " 'paramsHash': 'HWnwPkpxPG7euw7g2CTXTBRubt8NecXi4jZcVA5WyrZu',\n",
       " 'writes': '[{\"hash\":\"m3n92bN/hPOCpgEX7/xJVQgRm7z2d3+jtnZebdjpGQw=\",\"scope\":\"vault\",\"table\":\"paris_guide_superprompts\"}]',\n",
       " 'outputSignatureTs': '26xwWm8xKvVXcKjKAbN48WmvJZVzejcz3HJbuXCh3U3KYqeFZkvfdFFWY5Wo5ZPE6k8JcJkMSU8LwdR2YDtSCnTk',\n",
       " 'taskId': '9bf9f6dfedde48f7b629543b6581f6b3',\n",
       " 'consoleSignature': '47XBn2C27dpr4pV9Dh92BVNRhdZieJ6hzuzUtqp8rRgHUYJzF6S1k32jTCM39nVp4xK2QHdew9NpwRFgnwDh6XEM',\n",
       " 'ts': '1690019608349'}"
      ]
     },
     "metadata": {},
     "output_type": "display_data"
    }
   ],
   "source": [
    "timeoutSec = 300\n",
    "image = \"gcr.io/weavechain/distil_prompt\"\n",
    "\n",
    "params = {\n",
    "    \"persona\": \"paris_guide\",\n",
    "    \"scope\": data_collection\n",
    "}\n",
    "options = ComputeOptions(True, timeoutSec, 0, None, params)\n",
    "\n",
    "reply = nodeApi.compute(session, image, options).get()\n",
    "display(reply[\"data\"])"
   ]
  },
  {
   "cell_type": "markdown",
   "id": "d6a57303",
   "metadata": {},
   "source": [
    "#### Read superprompt"
   ]
  },
  {
   "cell_type": "code",
   "execution_count": 33,
   "id": "cb70d3c0",
   "metadata": {},
   "outputs": [
    {
     "data": {
      "text/plain": [
       "'As a Paris City Guide for foreigners you have to recommend the best place to visit in order to meet interesting people. What would that be, if the visitor wants '"
      ]
     },
     "metadata": {},
     "output_type": "display_data"
    },
    {
     "data": {
      "text/html": [
       "<div>\n",
       "<style scoped>\n",
       "    .dataframe tbody tr th:only-of-type {\n",
       "        vertical-align: middle;\n",
       "    }\n",
       "\n",
       "    .dataframe tbody tr th {\n",
       "        vertical-align: top;\n",
       "    }\n",
       "\n",
       "    .dataframe thead th {\n",
       "        text-align: right;\n",
       "    }\n",
       "</style>\n",
       "<table border=\"1\" class=\"dataframe\">\n",
       "  <thead>\n",
       "    <tr style=\"text-align: right;\">\n",
       "      <th></th>\n",
       "      <th>id</th>\n",
       "      <th>ts</th>\n",
       "      <th>pubkey</th>\n",
       "      <th>sig</th>\n",
       "      <th>ip</th>\n",
       "      <th>roles</th>\n",
       "      <th>source</th>\n",
       "      <th>text</th>\n",
       "    </tr>\n",
       "  </thead>\n",
       "  <tbody>\n",
       "    <tr>\n",
       "      <th>1</th>\n",
       "      <td>2</td>\n",
       "      <td>1690019451404</td>\n",
       "      <td>weave29LwVcvu5rrg9bfbp7UhQ89unqStMzQvtn7Td5ioS...</td>\n",
       "      <td>[{\"sig\":{\"recordsHash\":\"IbLKkVDQ96sV/EYgUXRvgA...</td>\n",
       "      <td>localhost</td>\n",
       "      <td>*</td>\n",
       "      <td>weave29LwVcvu5rrg9bfbp7UhQ89unqStMzQvtn7Td5ioS...</td>\n",
       "      <td>As a Paris City Guide for foreigners you have ...</td>\n",
       "    </tr>\n",
       "  </tbody>\n",
       "</table>\n",
       "</div>"
      ],
      "text/plain": [
       "   id             ts                                             pubkey  \\\n",
       "1   2  1690019451404  weave29LwVcvu5rrg9bfbp7UhQ89unqStMzQvtn7Td5ioS...   \n",
       "\n",
       "                                                 sig         ip roles  \\\n",
       "1  [{\"sig\":{\"recordsHash\":\"IbLKkVDQ96sV/EYgUXRvgA...  localhost     *   \n",
       "\n",
       "                                              source  \\\n",
       "1  weave29LwVcvu5rrg9bfbp7UhQ89unqStMzQvtn7Td5ioS...   \n",
       "\n",
       "                                                text  \n",
       "1  As a Paris City Guide for foreigners you have ...  "
      ]
     },
     "metadata": {},
     "output_type": "display_data"
    }
   ],
   "source": [
    "table = \"paris_guide_prompts\"\n",
    "\n",
    "res = nodeApi.read(session, data_collection, table, None, READ_DEFAULT_NO_CHAIN).get()\n",
    "#print(reply)\n",
    "df = pd.DataFrame(res[\"data\"])\n",
    "\n",
    "super_prompt = df.iloc[-1][\"text\"]\n",
    "\n",
    "display(super_prompt)\n",
    "display(df.tail(1))"
   ]
  },
  {
   "cell_type": "markdown",
   "id": "18130fd2",
   "metadata": {},
   "source": [
    "#### Compute lineage"
   ]
  },
  {
   "cell_type": "code",
   "execution_count": 29,
   "id": "431e4ae2",
   "metadata": {},
   "outputs": [
    {
     "name": "stdout",
     "output_type": "stream",
     "text": [
      "Compute Task Hash: 9njuvKmvCpypveTLfgKGtRHK2GZZHiBdYGmWuFgytSHW\n",
      "Input Hash: 3NvhzYCRa8WPfCVvkGrX6XEc72qJrv8Uk6762VgNDxhY\n",
      "Root Hashes: \"{vault={paris_guide_prompts=DuisniJjpv8vpkRhAkiFHZw42KPhi36XRP83xUAoUzmL}}\"\n",
      "Output Hash: 2QQbaKNrH2KJbvyCCz2VuBi4ULusLseqGPMr6Av1AW7J\n",
      "Output Signature: 26xwWm8xKvVXcKjKAbN48WmvJZVzejcz3HJbuXCh3U3KYqeFZkvfdFFWY5Wo5ZPE6k8JcJkMSU8LwdR2YDtSCnTk\n",
      "\n",
      "Signature Match: True\n"
     ]
    }
   ],
   "source": [
    "task_reply = reply[\"data\"]\n",
    "\n",
    "print(\"Compute Task Hash:\", task_reply[\"computeHash\"])\n",
    "print(\"Input Hash:\", task_reply[\"inputHash\"])\n",
    "print(\"Root Hashes:\", task_reply.get(\"rootHashes\"))\n",
    "print(\"Output Hash:\", task_reply[\"outputHash\"])\n",
    "print(\"Output Signature:\", task_reply[\"outputSignatureTs\"])\n",
    "\n",
    "signature = task_reply[\"outputSignature\"]\n",
    "match = nodeApi.verifyLineageSignature(signature, task_reply.get(\"inputHash\"), task_reply.get(\"computeHash\"), task_reply.get(\"paramsHash\"), task_reply[\"output\"])\n",
    "print(\"\\nSignature Match:\", match)"
   ]
  },
  {
   "cell_type": "markdown",
   "id": "dae0e29d",
   "metadata": {},
   "source": [
    "### Check balance for writers (will need to use different accounts to have a payment happening)"
   ]
  },
  {
   "cell_type": "code",
   "execution_count": 61,
   "id": "7bc6cf4d",
   "metadata": {},
   "outputs": [
    {
     "name": "stdout",
     "output_type": "stream",
     "text": [
      "Custodial wallet: weave29LwVcvu5rrg9bfbp7UhQ89unqStMzQvtn7Td5ioSu38Q 0\n"
     ]
    }
   ],
   "source": [
    "account = sample[\"pubkey\"]\n",
    "reply = nodeApi.balance(session, account, \"\", token).get()\n",
    "print(\"Custodial wallet:\", session.publicKey, float(reply[\"data\"]) / pow(10, decimals) if \"data\" in reply else 0)"
   ]
  },
  {
   "cell_type": "markdown",
   "id": "b213267c",
   "metadata": {},
   "source": [
    "### Blockchain anchors for immutability proofs (for Paris guide, accepted prompts)"
   ]
  },
  {
   "cell_type": "markdown",
   "id": "22d05168",
   "metadata": {},
   "source": [
    "#### Records have immutability proofs on blockchain"
   ]
  },
  {
   "cell_type": "markdown",
   "id": "5a17c393",
   "metadata": {},
   "source": [
    "https://blockscout.chiadochain.net/address/0xb63c92907027FF85b428Af54B378d6D09688157B"
   ]
  },
  {
   "cell_type": "code",
   "execution_count": 35,
   "id": "a8ca8f9f",
   "metadata": {},
   "outputs": [
    {
     "data": {
      "text/html": [
       "<div>\n",
       "<style scoped>\n",
       "    .dataframe tbody tr th:only-of-type {\n",
       "        vertical-align: middle;\n",
       "    }\n",
       "\n",
       "    .dataframe tbody tr th {\n",
       "        vertical-align: top;\n",
       "    }\n",
       "\n",
       "    .dataframe thead th {\n",
       "        text-align: right;\n",
       "    }\n",
       "</style>\n",
       "<table border=\"1\" class=\"dataframe\">\n",
       "  <thead>\n",
       "    <tr style=\"text-align: right;\">\n",
       "      <th></th>\n",
       "      <th>ID</th>\n",
       "      <th>Hash</th>\n",
       "    </tr>\n",
       "  </thead>\n",
       "  <tbody>\n",
       "    <tr>\n",
       "      <th>0</th>\n",
       "      <td>1</td>\n",
       "      <td>LzzkXddC/6CQPrfZ2E6Uw5j443OVr1855BzsTGoIrSM=</td>\n",
       "    </tr>\n",
       "  </tbody>\n",
       "</table>\n",
       "</div>"
      ],
      "text/plain": [
       "  ID                                          Hash\n",
       "0  1  LzzkXddC/6CQPrfZ2E6Uw5j443OVr1855BzsTGoIrSM="
      ]
     },
     "metadata": {},
     "output_type": "display_data"
    }
   ],
   "source": [
    "reply = nodeApi.hashes(session, data_collection, table, None, READ_DEFAULT_NO_CHAIN).get()\n",
    "#print(reply)\n",
    "dh = pd.DataFrame([ [x, reply[\"data\"][x]] for x in list(reply[\"data\"]) ], columns=[\"ID\", \"Hash\"])\n",
    "display(dh)"
   ]
  },
  {
   "cell_type": "markdown",
   "id": "57da452e",
   "metadata": {},
   "source": [
    "#### Merkle Tree Proofs"
   ]
  },
  {
   "cell_type": "markdown",
   "id": "20f4ccca",
   "metadata": {},
   "source": [
    "#### Records have a different type of immutability proof offering the ability to check inclusion via merkle trees"
   ]
  },
  {
   "cell_type": "markdown",
   "id": "aa181ec5",
   "metadata": {},
   "source": [
    "https://blockscout.chiadochain.net/address/0x281912371C490C4818cC57afB8dF88114C6888C0"
   ]
  },
  {
   "cell_type": "code",
   "execution_count": 36,
   "id": "93b2338a",
   "metadata": {
    "scrolled": true
   },
   "outputs": [
    {
     "name": "stdout",
     "output_type": "stream",
     "text": [
      "Generated at 1690019691477\n",
      "Root Hash DuisniJjpv8vpkRhAkiFHZw42KPhi36XRP83xUAoUzmL\n",
      "Signature 3cWdTnf915dM4g49TARQRvTcj9FoYeHoHUqDgv9Yw29bRmLu4wok7UNNaMtDKFR4XDvwkfLurn17rNi4yKarXoHB\n",
      "\n",
      "1 ['DuisniJjpv8vpkRhAkiFHZw42KPhi36XRP83xUAoUzmL']\n",
      "2 ['H6UdXXMF71En5drhGTEhUDkACdxSeEpLewXxbbUicRdz', 'DnVaHn9sMpgeDyrLdqnhVSjj7mNDksJNP6eMpNE7x2yC']\n",
      "\n",
      "     ____Dui..zmL___\n",
      "    /               \\\n",
      "H6U..Rdz          DnV..2yC\n",
      "\n"
     ]
    }
   ],
   "source": [
    "from binarytree import Node\n",
    "\n",
    "def showtree(tree):\n",
    "    prev = None\n",
    "    root = None\n",
    "    lvl = 1\n",
    "    for l in tree.split(\";\"):\n",
    "        level = l.split(\",\")\n",
    "        print(lvl, level)\n",
    "        lvl += 1\n",
    "        nodes = []\n",
    "        for i in range(len(level)):\n",
    "            pidx = int(i / 2)\n",
    "            node = Node(level[i][:3] + \"..\" + level[i][-3:])\n",
    "            if root is None:\n",
    "                root = node\n",
    "            nodes.append(node)\n",
    "            if prev is not None:\n",
    "                parent = prev[pidx]\n",
    "                if parent.left is None:\n",
    "                    parent.left = node\n",
    "                else:\n",
    "                    parent.right = node\n",
    "        prev = nodes\n",
    "    \n",
    "    print(root)\n",
    "\n",
    "salt = \"salt1234\" # Same salt used for records hashes, this can be improved to have different salts for *each distinct writer*\n",
    "digest = \"SHA-256\"\n",
    "\n",
    "filter = Filter(None, None, None, None, [ \"text\" ])\n",
    "reply = nodeApi.merkleTree(session, data_collection, table, filter, salt, digest, READ_DEFAULT_NO_CHAIN).get()\n",
    "tree = reply[\"data\"][\"tree\"]\n",
    "rootHash = reply[\"data\"][\"rootHash\"]\n",
    "ts = reply[\"data\"][\"timestamp\"]\n",
    "rootHashSignature = reply[\"data\"][\"signature\"]\n",
    "\n",
    "print(\"Generated at\", ts)\n",
    "print(\"Root Hash\", rootHash)\n",
    "print(\"Signature\", rootHashSignature)\n",
    "print(\"\")\n",
    "showtree(tree)\n",
    "# We've built a Merkle Tree at a specific time, signed by the node that created it.\n",
    "# The Merkle Leaves are salted hashes of the data in the table. Binance did an enumeration of coins."
   ]
  },
  {
   "cell_type": "markdown",
   "id": "a2a5a091",
   "metadata": {},
   "source": [
    "#### Check the root hash stored on chain"
   ]
  },
  {
   "cell_type": "code",
   "execution_count": 37,
   "id": "249d34da",
   "metadata": {},
   "outputs": [
    {
     "data": {
      "text/plain": [
       "{'signature': '38z6wvRCEHjF9r5XX215hD16XuULC7MNmyWBZjCuUhKGpGVrrXbUtcwUBW7eAKnm7U4JJ7J9smNdrpvx1XDztXQS',\n",
       " 'rootHash': 'DuisniJjpv8vpkRhAkiFHZw42KPhi36XRP83xUAoUzmL',\n",
       " 'timestamp': '1690019694146'}"
      ]
     },
     "metadata": {},
     "output_type": "display_data"
    },
    {
     "name": "stdout",
     "output_type": "stream",
     "text": [
      "\n",
      "Matching: True\n"
     ]
    }
   ],
   "source": [
    "table = \"paris_guide_prompts\"\n",
    "\n",
    "reply = nodeApi.rootHash(session, data_collection, table).get()\n",
    "#print(reply)\n",
    "data = reply[\"data\"]\n",
    "display(data)\n",
    "\n",
    "chainRootHash = data[\"rootHash\"]\n",
    "print(\"\\nMatching:\", rootHash == chainRootHash) # data hashes are salted. The salt needs to match what's configured on the network to have a match"
   ]
  },
  {
   "cell_type": "markdown",
   "id": "2c5dd1aa",
   "metadata": {},
   "source": [
    "#### Verify root hash signature"
   ]
  },
  {
   "cell_type": "code",
   "execution_count": 38,
   "id": "d8d3f16f",
   "metadata": {},
   "outputs": [
    {
     "name": "stdout",
     "output_type": "stream",
     "text": [
      "Node Public Key: GfHq2tTVk9z4eXgyXVRvnn4hnpsfgFCfen9n1KoqnLp9ANhnmj9BsdJvv9Gg\n"
     ]
    }
   ],
   "source": [
    "signingKey = nodeApi.sigKey().get()[\"data\"]\n",
    "print(\"Node Public Key:\", signingKey)"
   ]
  },
  {
   "cell_type": "code",
   "execution_count": 39,
   "id": "68b9deda",
   "metadata": {},
   "outputs": [
    {
     "name": "stdout",
     "output_type": "stream",
     "text": [
      "Check signature from merkleTree() call: True\n",
      "Check signature from blockchain: True\n"
     ]
    }
   ],
   "source": [
    "toSign = rootHash + \" \" + ts\n",
    "#print(rootHash)\n",
    "check = nodeApi.verifySignature(rootHashSignature, toSign)\n",
    "print(\"Check signature from merkleTree() call:\", check)\n",
    "\n",
    "toSign = data[\"rootHash\"] + \" \" + data[\"timestamp\"]\n",
    "check = nodeApi.verifySignature(data[\"signature\"], toSign)\n",
    "print(\"Check signature from blockchain:\", check)\n",
    "\n",
    "# Note, verifySignature isn't unique to Weavechain, it's EdDSA public key cryptography and the verification is done locally"
   ]
  },
  {
   "cell_type": "markdown",
   "id": "9b4c0e2e",
   "metadata": {},
   "source": [
    "### Verify inclusion"
   ]
  },
  {
   "cell_type": "markdown",
   "id": "eaf79415",
   "metadata": {},
   "source": [
    "#### With SHA-256 hash"
   ]
  },
  {
   "cell_type": "markdown",
   "id": "8fcc689d",
   "metadata": {},
   "source": [
    "Compute the hash of one of the articles"
   ]
  },
  {
   "cell_type": "code",
   "execution_count": 40,
   "id": "9b32dd25",
   "metadata": {},
   "outputs": [
    {
     "name": "stdout",
     "output_type": "stream",
     "text": [
      "H6UdXXMF71En5drhGTEhUDkACdxSeEpLewXxbbUicRdz\n"
     ]
    }
   ],
   "source": [
    "row = [ sample_prompt ]\n",
    "recordHash = nodeApi.hashRecord(row, salt)\n",
    "print(recordHash)"
   ]
  },
  {
   "cell_type": "markdown",
   "id": "31fd1743",
   "metadata": {},
   "source": [
    "Check the hash presence and validate the Merkle Tree"
   ]
  },
  {
   "cell_type": "code",
   "execution_count": 41,
   "id": "bb6dd0f5",
   "metadata": {},
   "outputs": [
    {
     "name": "stdout",
     "output_type": "stream",
     "text": [
      "true\n"
     ]
    }
   ],
   "source": [
    "reply = nodeApi.verifyMerkleHash(session, tree, recordHash).get()\n",
    "print(reply[\"data\"])"
   ]
  },
  {
   "cell_type": "markdown",
   "id": "1cc2e798",
   "metadata": {},
   "source": [
    "Or get a Merkle Proof for the record hash and verify it"
   ]
  },
  {
   "cell_type": "code",
   "execution_count": 42,
   "id": "1e1b8cde",
   "metadata": {},
   "outputs": [
    {
     "name": "stdout",
     "output_type": "stream",
     "text": [
      "{'res': 'ok', 'data': {'signature': '4zYeMLLy7FhTZgxJfkgUycEngEyiLuyN7GWyvLZUTmuthY724DgmCoDybZzAvLURsfLiLbhx3MTGhaa99hgMzq4B', 'rootHash': 'DuisniJjpv8vpkRhAkiFHZw42KPhi36XRP83xUAoUzmL', 'proof': 'H6UdXXMF71En5drhGTEhUDkACdxSeEpLewXxbbUicRdz,DnVaHn9sMpgeDyrLdqnhVSjj7mNDksJNP6eMpNE7x2yC', 'timestamp': '1690019703136'}}\n"
     ]
    },
    {
     "data": {
      "text/plain": [
       "{'signature': '4zYeMLLy7FhTZgxJfkgUycEngEyiLuyN7GWyvLZUTmuthY724DgmCoDybZzAvLURsfLiLbhx3MTGhaa99hgMzq4B',\n",
       " 'rootHash': 'DuisniJjpv8vpkRhAkiFHZw42KPhi36XRP83xUAoUzmL',\n",
       " 'proof': 'H6UdXXMF71En5drhGTEhUDkACdxSeEpLewXxbbUicRdz,DnVaHn9sMpgeDyrLdqnhVSjj7mNDksJNP6eMpNE7x2yC',\n",
       " 'timestamp': '1690019703136'}"
      ]
     },
     "metadata": {},
     "output_type": "display_data"
    },
    {
     "data": {
      "text/plain": [
       "[['H6UdXXMF71En5drhGTEhUDkACdxSeEpLewXxbbUicRdz',\n",
       "  'DnVaHn9sMpgeDyrLdqnhVSjj7mNDksJNP6eMpNE7x2yC']]"
      ]
     },
     "metadata": {},
     "output_type": "display_data"
    },
    {
     "name": "stdout",
     "output_type": "stream",
     "text": [
      "True\n"
     ]
    }
   ],
   "source": [
    "table = \"paris_guide_prompts\"\n",
    "\n",
    "reply = nodeApi.merkleProof(session, data_collection, table, recordHash).get()\n",
    "print(reply)\n",
    "data = reply[\"data\"]\n",
    "display(data)\n",
    "\n",
    "hashes = [ h.split(\",\") for h in data[\"proof\"].split(\";\") ]\n",
    "display(hashes)\n",
    "\n",
    "proofSignature = data[\"signature\"]\n",
    "toSign = data[\"proof\"] + \" \" + data[\"timestamp\"] # the node signed the proof and the timestamp\n",
    "check = nodeApi.verifySignature(proofSignature, toSign)\n",
    "print(check)"
   ]
  },
  {
   "cell_type": "markdown",
   "id": "e494be28",
   "metadata": {},
   "source": [
    "### Use persona"
   ]
  },
  {
   "cell_type": "code",
   "execution_count": 44,
   "id": "bb1acd88",
   "metadata": {},
   "outputs": [
    {
     "data": {
      "text/plain": [
       "\"Certainly! If you're an art lover, I recommend starting your Sunday morning at the Louvre Museum. It opens at 9 AM and it's less crowded in the early hours. You can explore the museum at your own pace, marveling at works like the Mona Lisa and the Venus de Milo. \\n\\nIf you prefer a more relaxed morning, head to the Marais district. Start with a breakfast at a café, then take a leisurely stroll through the charming streets, popping into any boutiques that catch your eye. The Musée Picasso and the Place des Vosges are also in this area.\\n\\nFor a more nature-oriented morning, visit the Jardin du Luxembourg or the Bois de Boulogne. Both are beautiful parks where you can enjoy a picnic, go for a jog, or simply sit and watch the world go by. \\n\\nIf you're interested in history, you might want to visit the historic Montmartre district. You can visit the Sacré-Cœur Basilica, stroll through the artistic Place du Tertre, and visit the Musée de Montmartre.\\n\\nRemember, Paris is best enjoyed at a leisurely pace. So, take your time and savor your Sunday morning in the City of Light!\""
      ]
     },
     "metadata": {},
     "output_type": "display_data"
    },
    {
     "data": {
      "text/plain": [
       "{'inputHash': '99rEqBDABrTCjYshhYASV8URwyWPc6hNKdRFBAAH6Zy',\n",
       " 'console': 'Connecting to node...\\n{\"res\":\"ok\",\"data\":\"pong 1690019744778\"}\\nFetched params: {\\'persona\\': \\'paris_guide\\', \\'scope\\': \\'vault\\', \\'prompt\\': \\'Please tell me where to spend my Sunday morning \\', \\'WEAVE_CALLER_PUBKEY\\': \\'weave29LwVcvu5rrg9bfbp7UhQ89unqStMzQvtn7Td5ioSu38Q\\'}\\nFetched scope: vault\\nFetched persona: paris_guide\\nFetching prompt: Please tell me where to spend my Sunday morning \\nFetching superprompt: As a Paris City Guide, the role involves recommending the most captivating places for tourists to visit to meet intriguing individuals, ensuring the advice is both amusing and engaging. This entails having an in-depth knowledge of all the attractions in Paris and being able to provide guidance that aligns with a visitor\\'s unique interests.\\nFetching max_tokens: 3072\\nFetched chat completion flag: True\\nFetched model endine: gpt-4\\nGot chatgpt response: Certainly! If you\\'re an art lover, I recommend starting your Sunday morning at the Louvre Museum. It opens at 9 AM and it\\'s less crowded in the early hours. You can explore the museum at your own pace, marveling at works like the Mona Lisa and the Venus de Milo. \\n\\nIf you prefer a more relaxed morning, head to the Marais district. Start with a breakfast at a café, then take a leisurely stroll through the charming streets, popping into any boutiques that catch your eye. The Musée Picasso and the Place des Vosges are also in this area.\\n\\nFor a more nature-oriented morning, visit the Jardin du Luxembourg or the Bois de Boulogne. Both are beautiful parks where you can enjoy a picnic, go for a jog, or simply sit and watch the world go by. \\n\\nIf you\\'re interested in history, you might want to visit the historic Montmartre district. You can visit the Sacré-Cœur Basilica, stroll through the artistic Place du Tertre, and visit the Musée de Montmartre.\\n\\nRemember, Paris is best enjoyed at a leisurely pace. So, take your time and savor your Sunday morning in the City of Light!\\nSending results...\\n',\n",
       " 'rootHashes': '\"{}\"',\n",
       " 'writesSignature': 'swKjrmFhCStxLc75EbfweuLEdJq7e1KhgurRV31kH4UtcoTpfmPjGDUVBumBMnpSzWAsBMVNwG4rUdP22G6yuC9',\n",
       " 'outputHash': 'AaB1aioAsLwMetmfoThtqRhxnpMroEWpLNLYhZJr61mW',\n",
       " 'outputSignature': 'nZAwrSZrqD5wQ6ToyruW8NET6KUPAmPhRe3qHr87LK4QUc2rZts2am8bZZ5u7YnDfGd3jCs6enDZzSpqT9r1Xhq',\n",
       " 'computeHash': '7KMaAjGAHhg1RdZaMd9ju1qpNmEMpWVsqmDgtJs4BW7v',\n",
       " 'WEAVE_API_KEY': '83fdeea905fe4a7db8286428642a7f445e739436b37e2716',\n",
       " 'output': \"Certainly! If you're an art lover, I recommend starting your Sunday morning at the Louvre Museum. It opens at 9 AM and it's less crowded in the early hours. You can explore the museum at your own pace, marveling at works like the Mona Lisa and the Venus de Milo. \\n\\nIf you prefer a more relaxed morning, head to the Marais district. Start with a breakfast at a café, then take a leisurely stroll through the charming streets, popping into any boutiques that catch your eye. The Musée Picasso and the Place des Vosges are also in this area.\\n\\nFor a more nature-oriented morning, visit the Jardin du Luxembourg or the Bois de Boulogne. Both are beautiful parks where you can enjoy a picnic, go for a jog, or simply sit and watch the world go by. \\n\\nIf you're interested in history, you might want to visit the historic Montmartre district. You can visit the Sacré-Cœur Basilica, stroll through the artistic Place du Tertre, and visit the Musée de Montmartre.\\n\\nRemember, Paris is best enjoyed at a leisurely pace. So, take your time and savor your Sunday morning in the City of Light!\",\n",
       " 'input': '[{\"hash\":\"JhERr94uP3g0BrZKJpyA4cyRTc6xc7FQ685oaENw61g=\",\"scope\":\"vault\",\"table\":\"paris_guide_superprompts\"}]',\n",
       " 'writesHash': '6LfKoQQMqb8fYgA1PwBPKMhFaJ59Fn3DWw6qTRri4zjN',\n",
       " 'paramsHash': '2wYxZYKnKLiJfkgZzYrge4EeaRdqUN2BoTE8KJHBLFeq',\n",
       " 'writes': '[]',\n",
       " 'outputSignatureTs': '4tj44YqYVX3gumcTGDhCPoNMsLzU51H2ipyqDkoj8SBam6rFepgEpuH23FdpEcgn7ycH1VaAphr3cNH6CpHtQsNw',\n",
       " 'taskId': '6b921a7b5e9a4fb0a8c7d188e73dbf36',\n",
       " 'consoleSignature': '5qVE72s9XS1DXHjPY9JfyMHLqu3LHCU1XM5J6M1bTht9eaUcRRFdLRqzo4RrBsxqwUQLUDmB2HKH3VQdzCbFpeqw',\n",
       " 'ts': '1690019760396'}"
      ]
     },
     "metadata": {},
     "output_type": "display_data"
    }
   ],
   "source": [
    "image = \"gcr.io/weavechain/generate_content\"\n",
    "timeoutSec = 300\n",
    "params = {\n",
    "    \"persona\": \"paris_guide\",\n",
    "    \"prompt\": \"Please tell me where to spend my Sunday morning \",\n",
    "    \"scope\": data_collection\n",
    "}\n",
    "options = ComputeOptions(True, timeoutSec, 0, None, params)\n",
    "\n",
    "reply = nodeApi.compute(session, image, options).get()\n",
    "display(reply[\"data\"][\"output\"])\n",
    "display(reply[\"data\"])"
   ]
  }
 ],
 "metadata": {
  "kernelspec": {
   "display_name": "Python 3 (ipykernel)",
   "language": "python",
   "name": "python3"
  },
  "language_info": {
   "codemirror_mode": {
    "name": "ipython",
    "version": 3
   },
   "file_extension": ".py",
   "mimetype": "text/x-python",
   "name": "python",
   "nbconvert_exporter": "python",
   "pygments_lexer": "ipython3",
   "version": "3.9.14"
  }
 },
 "nbformat": 4,
 "nbformat_minor": 5
}
