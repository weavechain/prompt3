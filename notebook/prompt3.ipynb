{
 "cells": [
  {
   "cell_type": "markdown",
   "id": "78199267",
   "metadata": {},
   "source": [
    "### Create an API session"
   ]
  },
  {
   "cell_type": "code",
   "execution_count": 12,
   "id": "474259a0",
   "metadata": {},
   "outputs": [
    {
     "name": "stdout",
     "output_type": "stream",
     "text": [
      "{\"res\":\"ok\",\"data\":\"pong 1690016278938\"}\n"
     ]
    }
   ],
   "source": [
    "import pandas as pd\n",
    "\n",
    "from weaveapi.records import *\n",
    "from weaveapi.options import *\n",
    "from weaveapi.filter import *\n",
    "from weaveapi.weaveh import *\n",
    "\n",
    "WEAVE_CONFIG = \"config/demo_ailineage_owner.config\"\n",
    "nodeApi, session = connect_weave_api(WEAVE_CONFIG)\n",
    "\n",
    "data_collection = \"vault\"\n",
    "\n",
    "token = \"USDC\"\n",
    "decimals = 6"
   ]
  },
  {
   "cell_type": "markdown",
   "id": "d825bb86",
   "metadata": {},
   "source": [
    "#### Check initial node owner balance"
   ]
  },
  {
   "cell_type": "markdown",
   "id": "ca76d970",
   "metadata": {},
   "source": [
    "Bridge address: https://mumbai.polygonscan.com/address/0xB485e0813b567E1629B8083026307d4d9E2cDE0B"
   ]
  },
  {
   "cell_type": "code",
   "execution_count": 2,
   "id": "0a592c6e",
   "metadata": {},
   "outputs": [
    {
     "name": "stdout",
     "output_type": "stream",
     "text": [
      "Custodial wallet weave29LwVcvu5rrg9bfbp7UhQ89unqStMzQvtn7Td5ioSu38Q 1000000.0\n"
     ]
    }
   ],
   "source": [
    "account = session.publicKey\n",
    "reply = nodeApi.balance(session, account, \"\", token).get()\n",
    "print(\"Custodial wallet\", account, float(reply[\"data\"]) / pow(10, decimals) if \"data\" in reply else 0)"
   ]
  },
  {
   "cell_type": "markdown",
   "id": "826dbb5c",
   "metadata": {},
   "source": [
    "### Create tables to store prompts"
   ]
  },
  {
   "cell_type": "code",
   "execution_count": 3,
   "id": "f03f6265",
   "metadata": {},
   "outputs": [],
   "source": [
    "personas = [\n",
    "    \"solidity_engineer\",\n",
    "    \"paris_guide\",\n",
    "    \"pregnancy_nurse\",\n",
    "    \"startup_advisor\",\n",
    "    \"crypto_trader\",\n",
    "    \"ethical_data_consultant\"\n",
    "]"
   ]
  },
  {
   "cell_type": "markdown",
   "id": "9e6a60eb",
   "metadata": {},
   "source": [
    "#### Prompt proposals"
   ]
  },
  {
   "cell_type": "code",
   "execution_count": 4,
   "id": "8de8df9d",
   "metadata": {},
   "outputs": [
    {
     "name": "stdout",
     "output_type": "stream",
     "text": [
      "solidity_engineer\n",
      "{'res': 'ok', 'target': {'operationType': 'CREATE_TABLE', 'organization': 'weavedemo', 'account': 'weave29LwVcvu5rrg9bfbp7UhQ89unqStMzQvtn7Td5ioSu38Q', 'scope': 'vault', 'table': 'solidity_engineer_proposals'}}\n",
      "paris_guide\n",
      "{'res': 'ok', 'target': {'operationType': 'CREATE_TABLE', 'organization': 'weavedemo', 'account': 'weave29LwVcvu5rrg9bfbp7UhQ89unqStMzQvtn7Td5ioSu38Q', 'scope': 'vault', 'table': 'paris_guide_proposals'}}\n",
      "pregnancy_nurse\n",
      "{'res': 'ok', 'target': {'operationType': 'CREATE_TABLE', 'organization': 'weavedemo', 'account': 'weave29LwVcvu5rrg9bfbp7UhQ89unqStMzQvtn7Td5ioSu38Q', 'scope': 'vault', 'table': 'pregnancy_nurse_proposals'}}\n",
      "startup_advisor\n",
      "{'res': 'ok', 'target': {'operationType': 'CREATE_TABLE', 'organization': 'weavedemo', 'account': 'weave29LwVcvu5rrg9bfbp7UhQ89unqStMzQvtn7Td5ioSu38Q', 'scope': 'vault', 'table': 'startup_advisor_proposals'}}\n",
      "crypto_trader\n",
      "{'res': 'ok', 'target': {'operationType': 'CREATE_TABLE', 'organization': 'weavedemo', 'account': 'weave29LwVcvu5rrg9bfbp7UhQ89unqStMzQvtn7Td5ioSu38Q', 'scope': 'vault', 'table': 'crypto_trader_proposals'}}\n",
      "ethical_data_consultant\n",
      "{'res': 'ok', 'target': {'operationType': 'CREATE_TABLE', 'organization': 'weavedemo', 'account': 'weave29LwVcvu5rrg9bfbp7UhQ89unqStMzQvtn7Td5ioSu38Q', 'scope': 'vault', 'table': 'ethical_data_consultant_proposals'}}\n"
     ]
    }
   ],
   "source": [
    "for persona in personas:\n",
    "    print(persona)\n",
    "    layout = { \n",
    "        \"columns\": { \n",
    "            \"id\": { \"type\": \"LONG\", \"isIndexed\": True, \"isUnique\": True, \"isNullable\": False },\n",
    "            \"ts\": { \"type\": \"LONG\" },\n",
    "            \"pubkey\": { \"type\": \"STRING\" },\n",
    "            \"sig\": { \"type\": \"STRING\" },\n",
    "            \"ip\": { \"type\": \"STRING\" },\n",
    "            \"roles\": { \"type\": \"STRING\" },\n",
    "            \"text\": { \"type\": \"STRING\" }\n",
    "        }, \n",
    "        \"idColumnIndex\": 0,  # Autogenerates IDs\n",
    "        \"timestampColumnIndex\": 1, # Fills the column automatically with the network time\n",
    "        \"ownerColumnIndex\": 2, # Fills the pubkey column automatically with the public key of the writer\n",
    "        \"signatureColumnIndex\": 3, # Fills the column with an EdDSA signature of the record hash\n",
    "        \"sourceIpColumnIndex\": 4, # Fills the column with an EdDSA signature of the record hash\n",
    "        \"allowedRolesColumnIndex\": 5, # Allowed readers, specified by the writer\n",
    "        \"isLocal\": False,\n",
    "        \"applyReadTransformations\": True\n",
    "    }\n",
    "\n",
    "    table = persona + \"_proposals\"\n",
    "    nodeApi.dropTable(session, data_collection, table).get()\n",
    "    reply = nodeApi.createTable(session, data_collection, table, CreateOptions(False, False, layout)).get()\n",
    "    print(reply)"
   ]
  },
  {
   "cell_type": "markdown",
   "id": "81a22256",
   "metadata": {},
   "source": [
    "#### Accepted prompts"
   ]
  },
  {
   "cell_type": "code",
   "execution_count": 5,
   "id": "7cfa068d",
   "metadata": {},
   "outputs": [
    {
     "name": "stdout",
     "output_type": "stream",
     "text": [
      "solidity_engineer\n",
      "{'res': 'ok', 'target': {'operationType': 'CREATE_TABLE', 'organization': 'weavedemo', 'account': 'weave29LwVcvu5rrg9bfbp7UhQ89unqStMzQvtn7Td5ioSu38Q', 'scope': 'vault', 'table': 'solidity_engineer_prompts'}}\n",
      "paris_guide\n",
      "{'res': 'ok', 'target': {'operationType': 'CREATE_TABLE', 'organization': 'weavedemo', 'account': 'weave29LwVcvu5rrg9bfbp7UhQ89unqStMzQvtn7Td5ioSu38Q', 'scope': 'vault', 'table': 'paris_guide_prompts'}}\n",
      "pregnancy_nurse\n",
      "{'res': 'ok', 'target': {'operationType': 'CREATE_TABLE', 'organization': 'weavedemo', 'account': 'weave29LwVcvu5rrg9bfbp7UhQ89unqStMzQvtn7Td5ioSu38Q', 'scope': 'vault', 'table': 'pregnancy_nurse_prompts'}}\n",
      "startup_advisor\n",
      "{'res': 'ok', 'target': {'operationType': 'CREATE_TABLE', 'organization': 'weavedemo', 'account': 'weave29LwVcvu5rrg9bfbp7UhQ89unqStMzQvtn7Td5ioSu38Q', 'scope': 'vault', 'table': 'startup_advisor_prompts'}}\n",
      "crypto_trader\n",
      "{'res': 'ok', 'target': {'operationType': 'CREATE_TABLE', 'organization': 'weavedemo', 'account': 'weave29LwVcvu5rrg9bfbp7UhQ89unqStMzQvtn7Td5ioSu38Q', 'scope': 'vault', 'table': 'crypto_trader_prompts'}}\n",
      "ethical_data_consultant\n",
      "{'res': 'ok', 'target': {'operationType': 'CREATE_TABLE', 'organization': 'weavedemo', 'account': 'weave29LwVcvu5rrg9bfbp7UhQ89unqStMzQvtn7Td5ioSu38Q', 'scope': 'vault', 'table': 'ethical_data_consultant_prompts'}}\n"
     ]
    }
   ],
   "source": [
    "for persona in personas:\n",
    "    print(persona)\n",
    "    layout = { \n",
    "        \"columns\": { \n",
    "            \"id\": { \"type\": \"LONG\", \"isIndexed\": True, \"isUnique\": True, \"isNullable\": False },\n",
    "            \"ts\": { \"type\": \"LONG\" },\n",
    "            \"pubkey\": { \"type\": \"STRING\" },\n",
    "            \"sig\": { \"type\": \"STRING\" },\n",
    "            \"ip\": { \"type\": \"STRING\" },\n",
    "            \"roles\": { \"type\": \"STRING\" },\n",
    "            \"source\": { \"type\": \"STRING\" },\n",
    "            \"text\": { \"type\": \"STRING\" }\n",
    "        }, \n",
    "        \"idColumnIndex\": 0,  # Autogenerates IDs\n",
    "        \"timestampColumnIndex\": 1, # Fills the column automatically with the network time\n",
    "        \"ownerColumnIndex\": 2, # Fills the pubkey column automatically with the public key of the writer\n",
    "        \"signatureColumnIndex\": 3, # Fills the column with an EdDSA signature of the record hash\n",
    "        \"sourceIpColumnIndex\": 4, # Fills the column with an EdDSA signature of the record hash\n",
    "        \"allowedRolesColumnIndex\": 5, # Allowed readers, specified by the writer\n",
    "        \"isLocal\": False,\n",
    "        \"applyReadTransformations\": True\n",
    "    }\n",
    "\n",
    "    table = persona + \"_prompts\"\n",
    "    nodeApi.dropTable(session, data_collection, table).get()\n",
    "    reply = nodeApi.createTable(session, data_collection, table, CreateOptions(False, False, layout)).get()\n",
    "    print(reply)"
   ]
  },
  {
   "cell_type": "markdown",
   "id": "3fc26adf",
   "metadata": {},
   "source": [
    "#### Superprompts"
   ]
  },
  {
   "cell_type": "code",
   "execution_count": 6,
   "id": "78a8862e",
   "metadata": {
    "scrolled": true
   },
   "outputs": [
    {
     "name": "stdout",
     "output_type": "stream",
     "text": [
      "solidity_engineer\n",
      "{'res': 'ok', 'target': {'operationType': 'CREATE_TABLE', 'organization': 'weavedemo', 'account': 'weave29LwVcvu5rrg9bfbp7UhQ89unqStMzQvtn7Td5ioSu38Q', 'scope': 'vault', 'table': 'solidity_engineer_superprompts'}}\n",
      "paris_guide\n",
      "{'res': 'ok', 'target': {'operationType': 'CREATE_TABLE', 'organization': 'weavedemo', 'account': 'weave29LwVcvu5rrg9bfbp7UhQ89unqStMzQvtn7Td5ioSu38Q', 'scope': 'vault', 'table': 'paris_guide_superprompts'}}\n",
      "pregnancy_nurse\n",
      "{'res': 'ok', 'target': {'operationType': 'CREATE_TABLE', 'organization': 'weavedemo', 'account': 'weave29LwVcvu5rrg9bfbp7UhQ89unqStMzQvtn7Td5ioSu38Q', 'scope': 'vault', 'table': 'pregnancy_nurse_superprompts'}}\n",
      "startup_advisor\n",
      "{'res': 'ok', 'target': {'operationType': 'CREATE_TABLE', 'organization': 'weavedemo', 'account': 'weave29LwVcvu5rrg9bfbp7UhQ89unqStMzQvtn7Td5ioSu38Q', 'scope': 'vault', 'table': 'startup_advisor_superprompts'}}\n",
      "crypto_trader\n",
      "{'res': 'ok', 'target': {'operationType': 'CREATE_TABLE', 'organization': 'weavedemo', 'account': 'weave29LwVcvu5rrg9bfbp7UhQ89unqStMzQvtn7Td5ioSu38Q', 'scope': 'vault', 'table': 'crypto_trader_superprompts'}}\n",
      "ethical_data_consultant\n",
      "{'res': 'ok', 'target': {'operationType': 'CREATE_TABLE', 'organization': 'weavedemo', 'account': 'weave29LwVcvu5rrg9bfbp7UhQ89unqStMzQvtn7Td5ioSu38Q', 'scope': 'vault', 'table': 'ethical_data_consultant_superprompts'}}\n"
     ]
    }
   ],
   "source": [
    "for persona in personas:\n",
    "    print(persona)\n",
    "    layout = { \n",
    "        \"columns\": { \n",
    "            \"id\": { \"type\": \"LONG\", \"isIndexed\": True, \"isUnique\": True, \"isNullable\": False },\n",
    "            \"ts\": { \"type\": \"LONG\" },\n",
    "            \"pubkey\": { \"type\": \"STRING\" },\n",
    "            \"sig\": { \"type\": \"STRING\" },\n",
    "            \"ip\": { \"type\": \"STRING\" },\n",
    "            \"roles\": { \"type\": \"STRING\" },\n",
    "            \"text\": { \"type\": \"STRING\" }\n",
    "        }, \n",
    "        \"idColumnIndex\": 0,  # Autogenerates IDs\n",
    "        \"timestampColumnIndex\": 1, # Fills the column automatically with the network time\n",
    "        \"ownerColumnIndex\": 2, # Fills the pubkey column automatically with the public key of the writer\n",
    "        \"signatureColumnIndex\": 3, # Fills the column with an EdDSA signature of the record hash\n",
    "        \"sourceIpColumnIndex\": 4, # Fills the column with an EdDSA signature of the record hash\n",
    "        \"allowedRolesColumnIndex\": 5, # Allowed readers, specified by the writer\n",
    "        \"isLocal\": False,\n",
    "        \"applyReadTransformations\": True\n",
    "    }\n",
    "\n",
    "    table = persona + \"_superprompts\"\n",
    "    nodeApi.dropTable(session, data_collection, table).get()\n",
    "    reply = nodeApi.createTable(session, data_collection, table, CreateOptions(False, False, layout)).get()\n",
    "    print(reply)"
   ]
  },
  {
   "cell_type": "markdown",
   "id": "74c7ec6f",
   "metadata": {},
   "source": [
    "#### Write some sample prompt"
   ]
  },
  {
   "cell_type": "code",
   "execution_count": 7,
   "id": "ab6ab72a",
   "metadata": {
    "scrolled": true
   },
   "outputs": [
    {
     "name": "stdout",
     "output_type": "stream",
     "text": [
      "{'res': 'ok', 'target': {'operationType': 'WRITE', 'organization': 'weavedemo', 'account': 'weave29LwVcvu5rrg9bfbp7UhQ89unqStMzQvtn7Td5ioSu38Q', 'scope': 'vault', 'table': 'paris_guide_proposals'}, 'data': 'weave29LwVcvu5rrg9bfbp7UhQ89unqStMzQvtn7Td5ioSu38Q,rbmtntkzhI54Zu2icINzmN+vFIMhr6tK0ljUnq9hHaY=,2fY2dFSKKPNKzhkNCvdfjNdVGW9KH8TBCK15zTTKf2XfZ1GimdxPSpUmBgpco3annVcFCYW84YvQdiWiybFGLkkF', 'ids': '1'}\n",
      "{'res': 'ok', 'target': {'operationType': 'WRITE', 'organization': 'weavedemo', 'account': 'weave29LwVcvu5rrg9bfbp7UhQ89unqStMzQvtn7Td5ioSu38Q', 'scope': 'vault', 'table': 'paris_guide_proposals'}, 'data': 'weave29LwVcvu5rrg9bfbp7UhQ89unqStMzQvtn7Td5ioSu38Q,KLZkMkd8JyVGwOyhDCH7W6Mx71QhUj6pBuqjhJ4ZEsk=,3fsexeQ6aXQPfMGE6DhGG1WNdbcooVHyxFudoLz7Q11ws7AAPxnbt5kABcrXdNpp3Tn5vneP4ukEReRHvZDVwHex', 'ids': '2'}\n",
      "{'res': 'ok', 'target': {'operationType': 'WRITE', 'organization': 'weavedemo', 'account': 'weave29LwVcvu5rrg9bfbp7UhQ89unqStMzQvtn7Td5ioSu38Q', 'scope': 'vault', 'table': 'paris_guide_proposals'}, 'data': 'weave29LwVcvu5rrg9bfbp7UhQ89unqStMzQvtn7Td5ioSu38Q,CzriI5SNDKnG1qvUOak8U2ClHg8a4skXp1EcP6hpbis=,5jg4guiW8Hwa8Sx7pGjsCR7jBug7aWmMgsnQDiUUeotAE3QPA6mjosbTVTZGDh2XYcUs15k9hEKiaJq8Dz4Vvmxw', 'ids': '3'}\n"
     ]
    }
   ],
   "source": [
    "table = \"paris_guide_proposals\"\n",
    "\n",
    "text = \"You are a well trained Paris City guide that knows every attraction. You have to give a recommendation for a tourist such that it is both funny and interesting, based on the following input: \"\n",
    "\n",
    "records = Records(table, [\n",
    "    [ None, None, None, None, None, None, text ]\n",
    "])\n",
    "reply = nodeApi.write(session, data_collection, records, WRITE_DEFAULT).get()\n",
    "print(reply)\n",
    "\n",
    "\n",
    "text = \"As a Paris City Guide recommend me something to do \"\n",
    "records = Records(table, [\n",
    "    [ None, None, None, None, None, None, text ]\n",
    "])\n",
    "reply = nodeApi.write(session, data_collection, records, WRITE_DEFAULT).get()\n",
    "print(reply)\n",
    "\n",
    "text = \"As a Paris City Guide for foreigners you have to recommend the best place to visit in order to meet interesting people. What would that be, if the visitor wants \"\n",
    "records = Records(table, [\n",
    "    [ None, None, None, None, None, None, text ]\n",
    "])\n",
    "reply = nodeApi.write(session, data_collection, records, WRITE_DEFAULT).get()\n",
    "print(reply)"
   ]
  },
  {
   "cell_type": "markdown",
   "id": "c1e77106",
   "metadata": {},
   "source": [
    "#### Test read proposed prompts"
   ]
  },
  {
   "cell_type": "code",
   "execution_count": 8,
   "id": "4f9450ec",
   "metadata": {
    "scrolled": true
   },
   "outputs": [
    {
     "data": {
      "text/html": [
       "<div>\n",
       "<style scoped>\n",
       "    .dataframe tbody tr th:only-of-type {\n",
       "        vertical-align: middle;\n",
       "    }\n",
       "\n",
       "    .dataframe tbody tr th {\n",
       "        vertical-align: top;\n",
       "    }\n",
       "\n",
       "    .dataframe thead th {\n",
       "        text-align: right;\n",
       "    }\n",
       "</style>\n",
       "<table border=\"1\" class=\"dataframe\">\n",
       "  <thead>\n",
       "    <tr style=\"text-align: right;\">\n",
       "      <th></th>\n",
       "      <th>id</th>\n",
       "      <th>ts</th>\n",
       "      <th>pubkey</th>\n",
       "      <th>sig</th>\n",
       "      <th>ip</th>\n",
       "      <th>text</th>\n",
       "    </tr>\n",
       "  </thead>\n",
       "  <tbody>\n",
       "    <tr>\n",
       "      <th>0</th>\n",
       "      <td>1</td>\n",
       "      <td>1690007518671</td>\n",
       "      <td>weave29LwVcvu5rrg9bfbp7UhQ89unqStMzQvtn7Td5ioS...</td>\n",
       "      <td>[{\"sig\":{\"recordsHash\":\"rbmtntkzhI54Zu2icINzmN...</td>\n",
       "      <td>172.174.28.163</td>\n",
       "      <td>You are a well trained Paris City guide that k...</td>\n",
       "    </tr>\n",
       "    <tr>\n",
       "      <th>1</th>\n",
       "      <td>2</td>\n",
       "      <td>1690007518725</td>\n",
       "      <td>weave29LwVcvu5rrg9bfbp7UhQ89unqStMzQvtn7Td5ioS...</td>\n",
       "      <td>[{\"sig\":{\"recordsHash\":\"KLZkMkd8JyVGwOyhDCH7W6...</td>\n",
       "      <td>172.174.28.163</td>\n",
       "      <td>As a Paris City Guide recommend me something t...</td>\n",
       "    </tr>\n",
       "    <tr>\n",
       "      <th>2</th>\n",
       "      <td>3</td>\n",
       "      <td>1690007518774</td>\n",
       "      <td>weave29LwVcvu5rrg9bfbp7UhQ89unqStMzQvtn7Td5ioS...</td>\n",
       "      <td>[{\"sig\":{\"recordsHash\":\"CzriI5SNDKnG1qvUOak8U2...</td>\n",
       "      <td>172.174.28.163</td>\n",
       "      <td>As a Paris City Guide for foreigners you have ...</td>\n",
       "    </tr>\n",
       "  </tbody>\n",
       "</table>\n",
       "</div>"
      ],
      "text/plain": [
       "   id             ts                                             pubkey  \\\n",
       "0   1  1690007518671  weave29LwVcvu5rrg9bfbp7UhQ89unqStMzQvtn7Td5ioS...   \n",
       "1   2  1690007518725  weave29LwVcvu5rrg9bfbp7UhQ89unqStMzQvtn7Td5ioS...   \n",
       "2   3  1690007518774  weave29LwVcvu5rrg9bfbp7UhQ89unqStMzQvtn7Td5ioS...   \n",
       "\n",
       "                                                 sig              ip  \\\n",
       "0  [{\"sig\":{\"recordsHash\":\"rbmtntkzhI54Zu2icINzmN...  172.174.28.163   \n",
       "1  [{\"sig\":{\"recordsHash\":\"KLZkMkd8JyVGwOyhDCH7W6...  172.174.28.163   \n",
       "2  [{\"sig\":{\"recordsHash\":\"CzriI5SNDKnG1qvUOak8U2...  172.174.28.163   \n",
       "\n",
       "                                                text  \n",
       "0  You are a well trained Paris City guide that k...  \n",
       "1  As a Paris City Guide recommend me something t...  \n",
       "2  As a Paris City Guide for foreigners you have ...  "
      ]
     },
     "metadata": {},
     "output_type": "display_data"
    }
   ],
   "source": [
    "table = \"paris_guide_proposals\"\n",
    "\n",
    "reply = nodeApi.read(session, data_collection, table, None, READ_DEFAULT_NO_CHAIN).get()\n",
    "#print(reply)\n",
    "df = pd.DataFrame(reply[\"data\"])\n",
    "display(df.tail())\n",
    "\n",
    "sample_prompt = df.iloc[0][\"text\"]"
   ]
  },
  {
   "cell_type": "markdown",
   "id": "1a5ca1a9",
   "metadata": {},
   "source": [
    "#### Records have hashes and signatures from the source"
   ]
  },
  {
   "cell_type": "code",
   "execution_count": 9,
   "id": "97f9fbf6",
   "metadata": {},
   "outputs": [
    {
     "data": {
      "text/plain": [
       "[{'sig': {'recordsHash': 'CzriI5SNDKnG1qvUOak8U2ClHg8a4skXp1EcP6hpbis=',\n",
       "   'count': '3',\n",
       "   'pubKey': 'weave29LwVcvu5rrg9bfbp7UhQ89unqStMzQvtn7Td5ioSu38Q',\n",
       "   'prevRecordsHash': 'KLZkMkd8JyVGwOyhDCH7W6Mx71QhUj6pBuqjhJ4ZEsk=',\n",
       "   'sig': '5EWTgwvyrag6v9bYhSvWNA6tLjXB1B1PbZnhn858gGEY1FukosYKMW8Q28GQWjcZnqxn1Ys5v4gLmUPWQtuZ6nYY'}}]"
      ]
     },
     "metadata": {},
     "output_type": "display_data"
    }
   ],
   "source": [
    "display(json.loads(df.iloc[-1][\"sig\"]))"
   ]
  },
  {
   "cell_type": "markdown",
   "id": "c57c3d56",
   "metadata": {},
   "source": [
    "### Run compute task to accept prompts"
   ]
  },
  {
   "cell_type": "code",
   "execution_count": null,
   "id": "2890cb40",
   "metadata": {},
   "outputs": [],
   "source": [
    "timeoutSec = 300\n",
    "params = {\n",
    "    \"persona\": \"paris_guide\",\n",
    "    \"accept\": [ 1, 3]\n",
    "}\n",
    "options = ComputeOptions(False, timeoutSec, 0, None, params)\n",
    "\n",
    "### TODO. Leave auth for later\n",
    "reply = nodeApi.compute(session, \"gcr.io/weavechain/approve_prompts\", options).get()\n",
    "display(reply)"
   ]
  },
  {
   "cell_type": "markdown",
   "id": "94367cf3",
   "metadata": {},
   "source": [
    "#### Test read accepted prompts"
   ]
  },
  {
   "cell_type": "code",
   "execution_count": 14,
   "id": "274191dd",
   "metadata": {},
   "outputs": [
    {
     "data": {
      "text/html": [
       "<div>\n",
       "<style scoped>\n",
       "    .dataframe tbody tr th:only-of-type {\n",
       "        vertical-align: middle;\n",
       "    }\n",
       "\n",
       "    .dataframe tbody tr th {\n",
       "        vertical-align: top;\n",
       "    }\n",
       "\n",
       "    .dataframe thead th {\n",
       "        text-align: right;\n",
       "    }\n",
       "</style>\n",
       "<table border=\"1\" class=\"dataframe\">\n",
       "  <thead>\n",
       "    <tr style=\"text-align: right;\">\n",
       "      <th></th>\n",
       "      <th>id</th>\n",
       "      <th>ts</th>\n",
       "      <th>pubkey</th>\n",
       "      <th>sig</th>\n",
       "      <th>ip</th>\n",
       "      <th>roles</th>\n",
       "      <th>source</th>\n",
       "      <th>text</th>\n",
       "    </tr>\n",
       "  </thead>\n",
       "  <tbody>\n",
       "    <tr>\n",
       "      <th>0</th>\n",
       "      <td>1</td>\n",
       "      <td>1690016205896</td>\n",
       "      <td>weave29LwVcvu5rrg9bfbp7UhQ89unqStMzQvtn7Td5ioS...</td>\n",
       "      <td>[{\"sig\":{\"recordsHash\":\"FkVUQ7UnnZ8x2Nz21qJs1t...</td>\n",
       "      <td>89.137.100.219</td>\n",
       "      <td>*</td>\n",
       "      <td>weave29LwVcvu5rrg9bfbp7UhQ89unqStMzQvtn7Td5ioS...</td>\n",
       "      <td>You are a well trained Paris City guide that k...</td>\n",
       "    </tr>\n",
       "    <tr>\n",
       "      <th>1</th>\n",
       "      <td>2</td>\n",
       "      <td>1690016206880</td>\n",
       "      <td>weave29LwVcvu5rrg9bfbp7UhQ89unqStMzQvtn7Td5ioS...</td>\n",
       "      <td>[{\"sig\":{\"recordsHash\":\"IbLKkVDQ96sV/EYgUXRvgA...</td>\n",
       "      <td>89.137.100.219</td>\n",
       "      <td>*</td>\n",
       "      <td>weave29LwVcvu5rrg9bfbp7UhQ89unqStMzQvtn7Td5ioS...</td>\n",
       "      <td>As a Paris City Guide for foreigners you have ...</td>\n",
       "    </tr>\n",
       "  </tbody>\n",
       "</table>\n",
       "</div>"
      ],
      "text/plain": [
       "   id             ts                                             pubkey  \\\n",
       "0   1  1690016205896  weave29LwVcvu5rrg9bfbp7UhQ89unqStMzQvtn7Td5ioS...   \n",
       "1   2  1690016206880  weave29LwVcvu5rrg9bfbp7UhQ89unqStMzQvtn7Td5ioS...   \n",
       "\n",
       "                                                 sig              ip roles  \\\n",
       "0  [{\"sig\":{\"recordsHash\":\"FkVUQ7UnnZ8x2Nz21qJs1t...  89.137.100.219     *   \n",
       "1  [{\"sig\":{\"recordsHash\":\"IbLKkVDQ96sV/EYgUXRvgA...  89.137.100.219     *   \n",
       "\n",
       "                                              source  \\\n",
       "0  weave29LwVcvu5rrg9bfbp7UhQ89unqStMzQvtn7Td5ioS...   \n",
       "1  weave29LwVcvu5rrg9bfbp7UhQ89unqStMzQvtn7Td5ioS...   \n",
       "\n",
       "                                                text  \n",
       "0  You are a well trained Paris City guide that k...  \n",
       "1  As a Paris City Guide for foreigners you have ...  "
      ]
     },
     "metadata": {},
     "output_type": "display_data"
    }
   ],
   "source": [
    "table = \"paris_guide_prompts\"\n",
    "\n",
    "reply = nodeApi.read(session, data_collection, table, None, READ_DEFAULT_NO_CHAIN).get()\n",
    "#print(reply)\n",
    "df = pd.DataFrame(reply[\"data\"])\n",
    "display(df.tail())\n",
    "\n",
    "sample_prompt = df.iloc[0][\"text\"]"
   ]
  },
  {
   "cell_type": "markdown",
   "id": "384e91f1",
   "metadata": {},
   "source": [
    "### Run compute task to generate a superprompt"
   ]
  },
  {
   "cell_type": "code",
   "execution_count": null,
   "id": "69a2fee2",
   "metadata": {},
   "outputs": [],
   "source": [
    "timeoutSec = 300\n",
    "params = {\n",
    "    \"persona\": \"paris_guide\"\n",
    "}\n",
    "options = ComputeOptions(False, timeoutSec, 0, None, params)\n",
    "\n",
    "reply = nodeApi.compute(session, \"gcr.io/weavechain/???\", options).get()\n",
    "display(reply)"
   ]
  },
  {
   "cell_type": "markdown",
   "id": "18130fd2",
   "metadata": {},
   "source": [
    "#### Compute lineage"
   ]
  },
  {
   "cell_type": "code",
   "execution_count": null,
   "id": "431e4ae2",
   "metadata": {},
   "outputs": [],
   "source": [
    "task_reply = reply[\"data\"]\n",
    "\n",
    "print(\"Compute Task Hash:\", task_reply[\"computeHash\"])\n",
    "print(\"Input Hash:\", task_reply[\"inputHash\"])\n",
    "print(\"Root Hashes:\", task_reply.get(\"rootHashes\"))\n",
    "print(\"Output Hash:\", task_reply[\"outputHash\"])\n",
    "print(\"Output Signature:\", task_reply[\"outputSignatureTs\"])\n",
    "\n",
    "signature = task_reply[\"outputSignature\"]\n",
    "match = nodeApi.verifyLineageSignature(signature, task_reply.get(\"inputHash\"), task_reply.get(\"computeHash\"), task_reply.get(\"paramsHash\"), task_reply[\"output\"])\n",
    "print(\"\\nSignature Match:\", match)a"
   ]
  },
  {
   "cell_type": "markdown",
   "id": "dae0e29d",
   "metadata": {},
   "source": [
    "### TODO Check balance for writers (and use different accounts)"
   ]
  },
  {
   "cell_type": "code",
   "execution_count": null,
   "id": "7bc6cf4d",
   "metadata": {},
   "outputs": [],
   "source": [
    "account = sample[\"pubkey\"]\n",
    "reply = nodeApi.balance(session, account, \"\", token).get()\n",
    "print(\"Custodial wallet:\", session.publicKey, float(reply[\"data\"]) / pow(10, decimals) if \"data\" in reply else 0)"
   ]
  },
  {
   "cell_type": "markdown",
   "id": "b213267c",
   "metadata": {},
   "source": [
    "### Blockchain anchors for immutability proofs (for Paris guide, accepted prompts)"
   ]
  },
  {
   "cell_type": "markdown",
   "id": "22d05168",
   "metadata": {},
   "source": [
    "#### Records have immutability proofs on blockchain"
   ]
  },
  {
   "cell_type": "markdown",
   "id": "5a17c393",
   "metadata": {},
   "source": [
    "https://mumbai.polygonscan.com/address/0x5FFD5EB6B8742e38884Ce33480e09173B830613B"
   ]
  },
  {
   "cell_type": "code",
   "execution_count": 15,
   "id": "a8ca8f9f",
   "metadata": {},
   "outputs": [
    {
     "data": {
      "text/html": [
       "<div>\n",
       "<style scoped>\n",
       "    .dataframe tbody tr th:only-of-type {\n",
       "        vertical-align: middle;\n",
       "    }\n",
       "\n",
       "    .dataframe tbody tr th {\n",
       "        vertical-align: top;\n",
       "    }\n",
       "\n",
       "    .dataframe thead th {\n",
       "        text-align: right;\n",
       "    }\n",
       "</style>\n",
       "<table border=\"1\" class=\"dataframe\">\n",
       "  <thead>\n",
       "    <tr style=\"text-align: right;\">\n",
       "      <th></th>\n",
       "      <th>ID</th>\n",
       "      <th>Hash</th>\n",
       "    </tr>\n",
       "  </thead>\n",
       "  <tbody>\n",
       "    <tr>\n",
       "      <th>0</th>\n",
       "      <td>1</td>\n",
       "      <td>aiZx6BPASuu2toOygvV9fnBLYEmQ7WtfTA238zPLPAc=</td>\n",
       "    </tr>\n",
       "  </tbody>\n",
       "</table>\n",
       "</div>"
      ],
      "text/plain": [
       "  ID                                          Hash\n",
       "0  1  aiZx6BPASuu2toOygvV9fnBLYEmQ7WtfTA238zPLPAc="
      ]
     },
     "metadata": {},
     "output_type": "display_data"
    }
   ],
   "source": [
    "reply = nodeApi.hashes(session, data_collection, table, None, READ_DEFAULT_NO_CHAIN).get()\n",
    "#print(reply)\n",
    "dh = pd.DataFrame([ [x, reply[\"data\"][x]] for x in list(reply[\"data\"]) ], columns=[\"ID\", \"Hash\"])\n",
    "display(dh)"
   ]
  },
  {
   "cell_type": "markdown",
   "id": "57da452e",
   "metadata": {},
   "source": [
    "#### Merkle Tree Proofs"
   ]
  },
  {
   "cell_type": "markdown",
   "id": "20f4ccca",
   "metadata": {},
   "source": [
    "#### Records have a different type of immutability proof offering the ability to check inclusion via merkle trees"
   ]
  },
  {
   "cell_type": "markdown",
   "id": "aa181ec5",
   "metadata": {},
   "source": [
    "https://mumbai.polygonscan.com/address/0x32D8c718Cd46645fd8D46CCbeB40137b54458F9e"
   ]
  },
  {
   "cell_type": "code",
   "execution_count": 16,
   "id": "93b2338a",
   "metadata": {
    "scrolled": true
   },
   "outputs": [
    {
     "name": "stdout",
     "output_type": "stream",
     "text": [
      "Generated at 1690016342230\n",
      "Root Hash DuisniJjpv8vpkRhAkiFHZw42KPhi36XRP83xUAoUzmL\n",
      "Signature 3KvQsX2eSsg89kuYUAezDA3YzatcA5hMaMskNRAYWa1b3p3d5Vy3ejnzu8R8271wbALk2d8ZCb3pJmTHQHw9ndPz\n",
      "\n",
      "1 ['DuisniJjpv8vpkRhAkiFHZw42KPhi36XRP83xUAoUzmL']\n",
      "2 ['H6UdXXMF71En5drhGTEhUDkACdxSeEpLewXxbbUicRdz', 'DnVaHn9sMpgeDyrLdqnhVSjj7mNDksJNP6eMpNE7x2yC']\n",
      "\n",
      "     ____Dui..zmL___\n",
      "    /               \\\n",
      "H6U..Rdz          DnV..2yC\n",
      "\n"
     ]
    }
   ],
   "source": [
    "from binarytree import Node\n",
    "\n",
    "def showtree(tree):\n",
    "    prev = None\n",
    "    root = None\n",
    "    lvl = 1\n",
    "    for l in tree.split(\";\"):\n",
    "        level = l.split(\",\")\n",
    "        print(lvl, level)\n",
    "        lvl += 1\n",
    "        nodes = []\n",
    "        for i in range(len(level)):\n",
    "            pidx = int(i / 2)\n",
    "            node = Node(level[i][:3] + \"..\" + level[i][-3:])\n",
    "            if root is None:\n",
    "                root = node\n",
    "            nodes.append(node)\n",
    "            if prev is not None:\n",
    "                parent = prev[pidx]\n",
    "                if parent.left is None:\n",
    "                    parent.left = node\n",
    "                else:\n",
    "                    parent.right = node\n",
    "        prev = nodes\n",
    "    \n",
    "    print(root)\n",
    "\n",
    "salt = \"salt1234\" # Same salt used for records hashes, this can be improved to have different salts for *each distinct writer*\n",
    "digest = \"SHA-256\"\n",
    "\n",
    "filter = Filter(None, None, None, None, [ \"text\" ])\n",
    "reply = nodeApi.merkleTree(session, data_collection, table, filter, salt, digest, READ_DEFAULT_NO_CHAIN).get()\n",
    "tree = reply[\"data\"][\"tree\"]\n",
    "rootHash = reply[\"data\"][\"rootHash\"]\n",
    "ts = reply[\"data\"][\"timestamp\"]\n",
    "rootHashSignature = reply[\"data\"][\"signature\"]\n",
    "\n",
    "print(\"Generated at\", ts)\n",
    "print(\"Root Hash\", rootHash)\n",
    "print(\"Signature\", rootHashSignature)\n",
    "print(\"\")\n",
    "showtree(tree)\n",
    "# We've built a Merkle Tree at a specific time, signed by the node that created it.\n",
    "# The Merkle Leaves are salted hashes of the data in the table. Binance did an enumeration of coins."
   ]
  },
  {
   "cell_type": "markdown",
   "id": "a2a5a091",
   "metadata": {},
   "source": [
    "#### Check the root hash stored on chain"
   ]
  },
  {
   "cell_type": "code",
   "execution_count": 17,
   "id": "249d34da",
   "metadata": {},
   "outputs": [
    {
     "data": {
      "text/plain": [
       "{'signature': '3skp9PPZH7Sdt7XkponQGmCY1g4678VsXXrWz5Ma3TuFX5yoxMomVW5xU8Hh5eVUUdYH8BfeXZCmk4pK3RnU8HDm',\n",
       " 'rootHash': 'DuisniJjpv8vpkRhAkiFHZw42KPhi36XRP83xUAoUzmL',\n",
       " 'timestamp': '1690016346567'}"
      ]
     },
     "metadata": {},
     "output_type": "display_data"
    },
    {
     "name": "stdout",
     "output_type": "stream",
     "text": [
      "\n",
      "Matching: True\n"
     ]
    }
   ],
   "source": [
    "table = \"paris_guide_prompts\"\n",
    "\n",
    "reply = nodeApi.rootHash(session, data_collection, table).get()\n",
    "#print(reply)\n",
    "data = reply[\"data\"]\n",
    "display(data)\n",
    "\n",
    "chainRootHash = data[\"rootHash\"]\n",
    "print(\"\\nMatching:\", rootHash == chainRootHash) # data hashes are salted. The salt needs to match what's configured on the network to have a match"
   ]
  },
  {
   "cell_type": "markdown",
   "id": "2c5dd1aa",
   "metadata": {},
   "source": [
    "#### Verify root hash signature"
   ]
  },
  {
   "cell_type": "code",
   "execution_count": 18,
   "id": "d8d3f16f",
   "metadata": {},
   "outputs": [
    {
     "name": "stdout",
     "output_type": "stream",
     "text": [
      "Node Public Key: GfHq2tTVk9z4eXgyXVRvnn4hnpsfgFCfen9n1KoqnLp9ANhnmj9BsdJvv9Gg\n"
     ]
    }
   ],
   "source": [
    "signingKey = nodeApi.sigKey().get()[\"data\"]\n",
    "print(\"Node Public Key:\", signingKey)"
   ]
  },
  {
   "cell_type": "code",
   "execution_count": 20,
   "id": "68b9deda",
   "metadata": {},
   "outputs": [
    {
     "name": "stdout",
     "output_type": "stream",
     "text": [
      "Check signature from merkleTree() call: True\n",
      "Check signature from blockchain: True\n"
     ]
    }
   ],
   "source": [
    "toSign = rootHash + \" \" + ts\n",
    "#print(rootHash)\n",
    "check = nodeApi.verifySignature(rootHashSignature, toSign)\n",
    "print(\"Check signature from merkleTree() call:\", check)\n",
    "\n",
    "toSign = data[\"rootHash\"] + \" \" + data[\"timestamp\"]\n",
    "check = nodeApi.verifySignature(data[\"signature\"], toSign)\n",
    "print(\"Check signature from blockchain:\", check)\n",
    "\n",
    "# Note, verifySignature isn't unique to Weavechain, it's EdDSA public key cryptography and the verification is done locally"
   ]
  },
  {
   "cell_type": "markdown",
   "id": "9b4c0e2e",
   "metadata": {},
   "source": [
    "### Verify inclusion"
   ]
  },
  {
   "cell_type": "markdown",
   "id": "eaf79415",
   "metadata": {},
   "source": [
    "#### With SHA-256 hash"
   ]
  },
  {
   "cell_type": "markdown",
   "id": "8fcc689d",
   "metadata": {},
   "source": [
    "Compute the hash of one of the articles"
   ]
  },
  {
   "cell_type": "code",
   "execution_count": 21,
   "id": "9b32dd25",
   "metadata": {},
   "outputs": [
    {
     "name": "stdout",
     "output_type": "stream",
     "text": [
      "H6UdXXMF71En5drhGTEhUDkACdxSeEpLewXxbbUicRdz\n"
     ]
    }
   ],
   "source": [
    "row = [ sample_prompt ]\n",
    "recordHash = nodeApi.hashRecord(row, salt)\n",
    "print(recordHash)"
   ]
  },
  {
   "cell_type": "markdown",
   "id": "31fd1743",
   "metadata": {},
   "source": [
    "Check the hash presence and validate the Merkle Tree"
   ]
  },
  {
   "cell_type": "code",
   "execution_count": 22,
   "id": "bb6dd0f5",
   "metadata": {},
   "outputs": [
    {
     "name": "stdout",
     "output_type": "stream",
     "text": [
      "true\n"
     ]
    }
   ],
   "source": [
    "reply = nodeApi.verifyMerkleHash(session, tree, recordHash).get()\n",
    "print(reply[\"data\"])"
   ]
  },
  {
   "cell_type": "markdown",
   "id": "1cc2e798",
   "metadata": {},
   "source": [
    "Or get a Merkle Proof for the record hash and verify it"
   ]
  },
  {
   "cell_type": "code",
   "execution_count": 23,
   "id": "1e1b8cde",
   "metadata": {},
   "outputs": [
    {
     "name": "stdout",
     "output_type": "stream",
     "text": [
      "{'res': 'ok', 'data': {'signature': '5mm4t3sNJSD8ktCtVhJxHnDqbj7qRZdrxc4Ti1bDwm6yuTwm6Y7TwH4GQNt2WPK2t8QdygkS33TszpPurAoCCofH', 'rootHash': 'DuisniJjpv8vpkRhAkiFHZw42KPhi36XRP83xUAoUzmL', 'proof': 'H6UdXXMF71En5drhGTEhUDkACdxSeEpLewXxbbUicRdz,DnVaHn9sMpgeDyrLdqnhVSjj7mNDksJNP6eMpNE7x2yC', 'timestamp': '1690016371868'}}\n"
     ]
    },
    {
     "data": {
      "text/plain": [
       "{'signature': '5mm4t3sNJSD8ktCtVhJxHnDqbj7qRZdrxc4Ti1bDwm6yuTwm6Y7TwH4GQNt2WPK2t8QdygkS33TszpPurAoCCofH',\n",
       " 'rootHash': 'DuisniJjpv8vpkRhAkiFHZw42KPhi36XRP83xUAoUzmL',\n",
       " 'proof': 'H6UdXXMF71En5drhGTEhUDkACdxSeEpLewXxbbUicRdz,DnVaHn9sMpgeDyrLdqnhVSjj7mNDksJNP6eMpNE7x2yC',\n",
       " 'timestamp': '1690016371868'}"
      ]
     },
     "metadata": {},
     "output_type": "display_data"
    },
    {
     "data": {
      "text/plain": [
       "[['H6UdXXMF71En5drhGTEhUDkACdxSeEpLewXxbbUicRdz',\n",
       "  'DnVaHn9sMpgeDyrLdqnhVSjj7mNDksJNP6eMpNE7x2yC']]"
      ]
     },
     "metadata": {},
     "output_type": "display_data"
    },
    {
     "name": "stdout",
     "output_type": "stream",
     "text": [
      "True\n"
     ]
    }
   ],
   "source": [
    "table = \"paris_guide_prompts\"\n",
    "\n",
    "reply = nodeApi.merkleProof(session, data_collection, table, recordHash).get()\n",
    "print(reply)\n",
    "data = reply[\"data\"]\n",
    "display(data)\n",
    "\n",
    "hashes = [ h.split(\",\") for h in data[\"proof\"].split(\";\") ]\n",
    "display(hashes)\n",
    "\n",
    "proofSignature = data[\"signature\"]\n",
    "toSign = data[\"proof\"] + \" \" + data[\"timestamp\"] # the node signed the proof and the timestamp\n",
    "check = nodeApi.verifySignature(proofSignature, toSign)\n",
    "print(check)"
   ]
  },
  {
   "cell_type": "markdown",
   "id": "e494be28",
   "metadata": {},
   "source": [
    "### Use persona"
   ]
  },
  {
   "cell_type": "code",
   "execution_count": null,
   "id": "bb1acd88",
   "metadata": {},
   "outputs": [],
   "source": [
    "timeoutSec = 300\n",
    "params = {\n",
    "    \"persona\": \"paris_guide\",\n",
    "    \"prompt\": \"Please tell me where to spend my Sunday morning \"\n",
    "}\n",
    "options = ComputeOptions(False, timeoutSec, 0, None, params)\n",
    "\n",
    "reply = nodeApi.compute(session, \"gcr.io/weavechain/???\", options).get()\n",
    "display(reply)"
   ]
  }
 ],
 "metadata": {
  "kernelspec": {
   "display_name": "Python 3 (ipykernel)",
   "language": "python",
   "name": "python3"
  },
  "language_info": {
   "codemirror_mode": {
    "name": "ipython",
    "version": 3
   },
   "file_extension": ".py",
   "mimetype": "text/x-python",
   "name": "python",
   "nbconvert_exporter": "python",
   "pygments_lexer": "ipython3",
   "version": "3.9.14"
  }
 },
 "nbformat": 4,
 "nbformat_minor": 5
}
